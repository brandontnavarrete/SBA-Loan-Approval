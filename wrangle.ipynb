{
 "cells": [
  {
   "cell_type": "markdown",
   "id": "f8ceb219",
   "metadata": {},
   "source": [
    "# imports"
   ]
  },
  {
   "cell_type": "code",
   "execution_count": 48,
   "id": "209a27c7",
   "metadata": {},
   "outputs": [],
   "source": [
    "import pandas as pd\n",
    "import numpy as np \n",
    "import re\n",
    "\n",
    "pd.set_option('display.max_colwidth', None)"
   ]
  },
  {
   "cell_type": "code",
   "execution_count": 51,
   "id": "b5d60c8e",
   "metadata": {},
   "outputs": [],
   "source": [
    "from IPython.display import display, HTML"
   ]
  },
  {
   "cell_type": "markdown",
   "id": "a996b179",
   "metadata": {},
   "source": [
    "# Data"
   ]
  },
  {
   "cell_type": "code",
   "execution_count": 2,
   "id": "a0af874d",
   "metadata": {},
   "outputs": [
    {
     "name": "stderr",
     "output_type": "stream",
     "text": [
      "/var/folders/d0/5dr5q0n145vcn3_m9dxy1xq80000gn/T/ipykernel_40339/2640212651.py:1: DtypeWarning: Columns (9) have mixed types. Specify dtype option on import or set low_memory=False.\n",
      "  df = pd.read_csv('SBAnational.csv')\n"
     ]
    }
   ],
   "source": [
    "df = pd.read_csv('SBAnational.csv')"
   ]
  },
  {
   "cell_type": "code",
   "execution_count": 3,
   "id": "18b2c60e",
   "metadata": {},
   "outputs": [],
   "source": [
    "df1 = df.copy()"
   ]
  },
  {
   "cell_type": "markdown",
   "id": "e0356be5",
   "metadata": {},
   "source": [
    "# data dictionary"
   ]
  },
  {
   "cell_type": "markdown",
   "id": "2c8970d3",
   "metadata": {},
   "source": [
    "Variable Name\t    Description\n",
    "LoanNr_ChkDgt\t    Identifier Primary key\n",
    "Name\t            Borrower name\n",
    "City\t            Borrower city\n",
    "State\t            Borrower state\n",
    "Zip\t                Borrower zip code\n",
    "Bank\t            Bank name\n",
    "BankState\t        Bank state\n",
    "NAICS\t            North American industry classification system code\n",
    "ApprovalDate\t    Date SBA commitment issued\n",
    "ApprovalFY\t        Fiscal year of commitment\n",
    "Term\t            Loan term in months\n",
    "NoEmp\t            Number of business employees\n",
    "NewExist\t        1 = Existing business, 2 = New business\n",
    "CreateJob\t        Number of jobs created\n",
    "RetainedJob\t        Number of jobs retained\n",
    "FranchiseCode\t    Franchise code, (00000 or 00001) = No franchise\n",
    "UrbanRural\t        1 = Urban, 2 = rural, 0 = undefined\n",
    "RevLineCr\t        Revolving line of credit: Y = Yes, N = No\n",
    "LowDoc\t            LowDoc Loan Program: Y = Yes, N = No\n",
    "ChgOffDate\t        The date when a loan is declared to be in default\n",
    "DisbursementDate\tDisbursement date\n",
    "DisbursementGross\tAmount disbursed\n",
    "BalanceGross\t    Gross amount outstanding\n",
    "MIS_Status\t        Loan status charged off = CHGOFF, Paid in full =PIF\n",
    "ChgOffPrinGr\t    Charged-off amount\n",
    "GrAppv\t            Gross amount of loan approved by bank\n",
    "SBA_Appv\t        SBA’s guaranteed amount of approved loan"
   ]
  },
  {
   "cell_type": "markdown",
   "id": "ed42e995",
   "metadata": {},
   "source": [
    "# prepare"
   ]
  },
  {
   "cell_type": "markdown",
   "id": "dd8dc3c9",
   "metadata": {},
   "source": [
    "## missing values"
   ]
  },
  {
   "cell_type": "code",
   "execution_count": 4,
   "id": "89cc2e86",
   "metadata": {},
   "outputs": [
    {
     "data": {
      "text/plain": [
       "LoanNr_ChkDgt             0\n",
       "Name                     14\n",
       "City                     30\n",
       "State                    14\n",
       "Zip                       0\n",
       "Bank                   1559\n",
       "BankState              1566\n",
       "NAICS                     0\n",
       "ApprovalDate              0\n",
       "ApprovalFY                0\n",
       "Term                      0\n",
       "NoEmp                     0\n",
       "NewExist                136\n",
       "CreateJob                 0\n",
       "RetainedJob               0\n",
       "FranchiseCode             0\n",
       "UrbanRural                0\n",
       "RevLineCr              4528\n",
       "LowDoc                 2582\n",
       "ChgOffDate           736465\n",
       "DisbursementDate       2368\n",
       "DisbursementGross         0\n",
       "BalanceGross              0\n",
       "MIS_Status             1997\n",
       "ChgOffPrinGr              0\n",
       "GrAppv                    0\n",
       "SBA_Appv                  0\n",
       "dtype: int64"
      ]
     },
     "execution_count": 4,
     "metadata": {},
     "output_type": "execute_result"
    }
   ],
   "source": [
    "df.isna().sum()"
   ]
  },
  {
   "cell_type": "markdown",
   "id": "309e6219",
   "metadata": {},
   "source": [
    "### name"
   ]
  },
  {
   "cell_type": "code",
   "execution_count": 5,
   "id": "daecfbba",
   "metadata": {},
   "outputs": [],
   "source": [
    "# there are 14 names that are missing. I'm dropping names, \n",
    "# I don't want to give loans based on how catchy or popular the name is.\n",
    "df.drop(columns= \"Name\", inplace= True)"
   ]
  },
  {
   "cell_type": "markdown",
   "id": "398dc85b",
   "metadata": {},
   "source": [
    "#### i want to take the bank, and the state, and find the citys attached to that area. then fill the nulls with that city found."
   ]
  },
  {
   "cell_type": "code",
   "execution_count": 6,
   "id": "998e22c5",
   "metadata": {},
   "outputs": [
    {
     "data": {
      "text/html": [
       "<div>\n",
       "<style scoped>\n",
       "    .dataframe tbody tr th:only-of-type {\n",
       "        vertical-align: middle;\n",
       "    }\n",
       "\n",
       "    .dataframe tbody tr th {\n",
       "        vertical-align: top;\n",
       "    }\n",
       "\n",
       "    .dataframe thead th {\n",
       "        text-align: right;\n",
       "    }\n",
       "</style>\n",
       "<table border=\"1\" class=\"dataframe\">\n",
       "  <thead>\n",
       "    <tr style=\"text-align: right;\">\n",
       "      <th></th>\n",
       "      <th>LoanNr_ChkDgt</th>\n",
       "      <th>City</th>\n",
       "      <th>State</th>\n",
       "      <th>Zip</th>\n",
       "      <th>Bank</th>\n",
       "      <th>BankState</th>\n",
       "      <th>NAICS</th>\n",
       "      <th>ApprovalDate</th>\n",
       "      <th>ApprovalFY</th>\n",
       "      <th>Term</th>\n",
       "      <th>...</th>\n",
       "      <th>RevLineCr</th>\n",
       "      <th>LowDoc</th>\n",
       "      <th>ChgOffDate</th>\n",
       "      <th>DisbursementDate</th>\n",
       "      <th>DisbursementGross</th>\n",
       "      <th>BalanceGross</th>\n",
       "      <th>MIS_Status</th>\n",
       "      <th>ChgOffPrinGr</th>\n",
       "      <th>GrAppv</th>\n",
       "      <th>SBA_Appv</th>\n",
       "    </tr>\n",
       "  </thead>\n",
       "  <tbody>\n",
       "    <tr>\n",
       "      <th>42535</th>\n",
       "      <td>1330603010</td>\n",
       "      <td>NaN</td>\n",
       "      <td>UT</td>\n",
       "      <td>84109</td>\n",
       "      <td>MOUNTAIN W. SMALL BUS. FINAN</td>\n",
       "      <td>UT</td>\n",
       "      <td>0</td>\n",
       "      <td>15-Dec-81</td>\n",
       "      <td>1982</td>\n",
       "      <td>300</td>\n",
       "      <td>...</td>\n",
       "      <td>N</td>\n",
       "      <td>N</td>\n",
       "      <td>NaN</td>\n",
       "      <td>6-Jan-82</td>\n",
       "      <td>$190,000.00</td>\n",
       "      <td>$0.00</td>\n",
       "      <td>P I F</td>\n",
       "      <td>$0.00</td>\n",
       "      <td>$190,000.00</td>\n",
       "      <td>$190,000.00</td>\n",
       "    </tr>\n",
       "  </tbody>\n",
       "</table>\n",
       "<p>1 rows × 26 columns</p>\n",
       "</div>"
      ],
      "text/plain": [
       "       LoanNr_ChkDgt City State    Zip                          Bank  \\\n",
       "42535     1330603010  NaN    UT  84109  MOUNTAIN W. SMALL BUS. FINAN   \n",
       "\n",
       "      BankState  NAICS ApprovalDate ApprovalFY  Term  ...  RevLineCr  LowDoc  \\\n",
       "42535        UT      0    15-Dec-81       1982   300  ...          N       N   \n",
       "\n",
       "       ChgOffDate  DisbursementDate  DisbursementGross  BalanceGross  \\\n",
       "42535         NaN          6-Jan-82       $190,000.00         $0.00    \n",
       "\n",
       "      MIS_Status ChgOffPrinGr        GrAppv      SBA_Appv  \n",
       "42535      P I F       $0.00   $190,000.00   $190,000.00   \n",
       "\n",
       "[1 rows x 26 columns]"
      ]
     },
     "execution_count": 6,
     "metadata": {},
     "output_type": "execute_result"
    }
   ],
   "source": [
    "df[df.City.isna()].head(1)"
   ]
  },
  {
   "cell_type": "code",
   "execution_count": 7,
   "id": "bf09c663",
   "metadata": {},
   "outputs": [],
   "source": [
    "df.dropna(subset= ['City'],inplace= True)"
   ]
  },
  {
   "cell_type": "markdown",
   "id": "ba5df019",
   "metadata": {},
   "source": [
    "### State"
   ]
  },
  {
   "cell_type": "code",
   "execution_count": 8,
   "id": "78ec9293",
   "metadata": {},
   "outputs": [],
   "source": [
    "# 14 missing values, ill come back and try the previously mentioned strategy\n",
    "df.dropna(subset= ['State'],inplace= True)"
   ]
  },
  {
   "cell_type": "markdown",
   "id": "d464e3c5",
   "metadata": {},
   "source": [
    "### Bank"
   ]
  },
  {
   "cell_type": "code",
   "execution_count": 9,
   "id": "bd7fe3d0",
   "metadata": {},
   "outputs": [],
   "source": [
    "# 1559 missing values, ill come back and try the previously mentioned strategy\n",
    "df.dropna(subset= ['Bank'],inplace= True)"
   ]
  },
  {
   "cell_type": "markdown",
   "id": "7933b8a3",
   "metadata": {},
   "source": [
    "### BankState"
   ]
  },
  {
   "cell_type": "code",
   "execution_count": 10,
   "id": "f5768912",
   "metadata": {},
   "outputs": [
    {
     "data": {
      "text/html": [
       "<div>\n",
       "<style scoped>\n",
       "    .dataframe tbody tr th:only-of-type {\n",
       "        vertical-align: middle;\n",
       "    }\n",
       "\n",
       "    .dataframe tbody tr th {\n",
       "        vertical-align: top;\n",
       "    }\n",
       "\n",
       "    .dataframe thead th {\n",
       "        text-align: right;\n",
       "    }\n",
       "</style>\n",
       "<table border=\"1\" class=\"dataframe\">\n",
       "  <thead>\n",
       "    <tr style=\"text-align: right;\">\n",
       "      <th></th>\n",
       "      <th>LoanNr_ChkDgt</th>\n",
       "      <th>City</th>\n",
       "      <th>State</th>\n",
       "      <th>Zip</th>\n",
       "      <th>Bank</th>\n",
       "      <th>BankState</th>\n",
       "      <th>NAICS</th>\n",
       "      <th>ApprovalDate</th>\n",
       "      <th>ApprovalFY</th>\n",
       "      <th>Term</th>\n",
       "      <th>...</th>\n",
       "      <th>RevLineCr</th>\n",
       "      <th>LowDoc</th>\n",
       "      <th>ChgOffDate</th>\n",
       "      <th>DisbursementDate</th>\n",
       "      <th>DisbursementGross</th>\n",
       "      <th>BalanceGross</th>\n",
       "      <th>MIS_Status</th>\n",
       "      <th>ChgOffPrinGr</th>\n",
       "      <th>GrAppv</th>\n",
       "      <th>SBA_Appv</th>\n",
       "    </tr>\n",
       "  </thead>\n",
       "  <tbody>\n",
       "    <tr>\n",
       "      <th>145106</th>\n",
       "      <td>2060334001</td>\n",
       "      <td>NEW YORK</td>\n",
       "      <td>NY</td>\n",
       "      <td>10001</td>\n",
       "      <td>KOREA EXCHANGE BANK</td>\n",
       "      <td>NaN</td>\n",
       "      <td>421940</td>\n",
       "      <td>15-May-98</td>\n",
       "      <td>1998</td>\n",
       "      <td>36</td>\n",
       "      <td>...</td>\n",
       "      <td>0</td>\n",
       "      <td>Y</td>\n",
       "      <td>NaN</td>\n",
       "      <td>31-Jul-98</td>\n",
       "      <td>$30,000.00</td>\n",
       "      <td>$0.00</td>\n",
       "      <td>P I F</td>\n",
       "      <td>$0.00</td>\n",
       "      <td>$30,000.00</td>\n",
       "      <td>$24,000.00</td>\n",
       "    </tr>\n",
       "  </tbody>\n",
       "</table>\n",
       "<p>1 rows × 26 columns</p>\n",
       "</div>"
      ],
      "text/plain": [
       "        LoanNr_ChkDgt      City State    Zip                 Bank BankState  \\\n",
       "145106     2060334001  NEW YORK    NY  10001  KOREA EXCHANGE BANK       NaN   \n",
       "\n",
       "         NAICS ApprovalDate ApprovalFY  Term  ...  RevLineCr  LowDoc  \\\n",
       "145106  421940    15-May-98       1998    36  ...          0       Y   \n",
       "\n",
       "        ChgOffDate  DisbursementDate  DisbursementGross  BalanceGross  \\\n",
       "145106         NaN         31-Jul-98        $30,000.00         $0.00    \n",
       "\n",
       "       MIS_Status ChgOffPrinGr       GrAppv     SBA_Appv  \n",
       "145106      P I F       $0.00   $30,000.00   $24,000.00   \n",
       "\n",
       "[1 rows x 26 columns]"
      ]
     },
     "execution_count": 10,
     "metadata": {},
     "output_type": "execute_result"
    }
   ],
   "source": [
    "df[df.Bank == 'KOREA EXCHANGE BANK']"
   ]
  },
  {
   "cell_type": "code",
   "execution_count": 11,
   "id": "d8e586b8",
   "metadata": {},
   "outputs": [],
   "source": [
    "df.BankState = df.BankState.fillna('Foreign')"
   ]
  },
  {
   "cell_type": "markdown",
   "id": "82dbaecc",
   "metadata": {},
   "source": [
    "### NewExist"
   ]
  },
  {
   "cell_type": "code",
   "execution_count": 12,
   "id": "900ef62e",
   "metadata": {},
   "outputs": [
    {
     "data": {
      "text/html": [
       "<div>\n",
       "<style scoped>\n",
       "    .dataframe tbody tr th:only-of-type {\n",
       "        vertical-align: middle;\n",
       "    }\n",
       "\n",
       "    .dataframe tbody tr th {\n",
       "        vertical-align: top;\n",
       "    }\n",
       "\n",
       "    .dataframe thead th {\n",
       "        text-align: right;\n",
       "    }\n",
       "</style>\n",
       "<table border=\"1\" class=\"dataframe\">\n",
       "  <thead>\n",
       "    <tr style=\"text-align: right;\">\n",
       "      <th></th>\n",
       "      <th>LoanNr_ChkDgt</th>\n",
       "      <th>City</th>\n",
       "      <th>State</th>\n",
       "      <th>Zip</th>\n",
       "      <th>Bank</th>\n",
       "      <th>BankState</th>\n",
       "      <th>NAICS</th>\n",
       "      <th>ApprovalDate</th>\n",
       "      <th>ApprovalFY</th>\n",
       "      <th>Term</th>\n",
       "      <th>...</th>\n",
       "      <th>RevLineCr</th>\n",
       "      <th>LowDoc</th>\n",
       "      <th>ChgOffDate</th>\n",
       "      <th>DisbursementDate</th>\n",
       "      <th>DisbursementGross</th>\n",
       "      <th>BalanceGross</th>\n",
       "      <th>MIS_Status</th>\n",
       "      <th>ChgOffPrinGr</th>\n",
       "      <th>GrAppv</th>\n",
       "      <th>SBA_Appv</th>\n",
       "    </tr>\n",
       "  </thead>\n",
       "  <tbody>\n",
       "    <tr>\n",
       "      <th>395231</th>\n",
       "      <td>3808405000</td>\n",
       "      <td>BETHLEHEM</td>\n",
       "      <td>NH</td>\n",
       "      <td>3574</td>\n",
       "      <td>FIRST COLEBROOK BANK</td>\n",
       "      <td>NH</td>\n",
       "      <td>423310</td>\n",
       "      <td>15-Dec-09</td>\n",
       "      <td>2010</td>\n",
       "      <td>72</td>\n",
       "      <td>...</td>\n",
       "      <td>N</td>\n",
       "      <td>N</td>\n",
       "      <td>NaN</td>\n",
       "      <td>15-Dec-09</td>\n",
       "      <td>$117,000.00</td>\n",
       "      <td>$0.00</td>\n",
       "      <td>P I F</td>\n",
       "      <td>$0.00</td>\n",
       "      <td>$117,000.00</td>\n",
       "      <td>$99,450.00</td>\n",
       "    </tr>\n",
       "  </tbody>\n",
       "</table>\n",
       "<p>1 rows × 26 columns</p>\n",
       "</div>"
      ],
      "text/plain": [
       "        LoanNr_ChkDgt       City State   Zip                  Bank BankState  \\\n",
       "395231     3808405000  BETHLEHEM    NH  3574  FIRST COLEBROOK BANK        NH   \n",
       "\n",
       "         NAICS ApprovalDate ApprovalFY  Term  ...  RevLineCr  LowDoc  \\\n",
       "395231  423310    15-Dec-09       2010    72  ...          N       N   \n",
       "\n",
       "        ChgOffDate  DisbursementDate  DisbursementGross  BalanceGross  \\\n",
       "395231         NaN         15-Dec-09       $117,000.00         $0.00    \n",
       "\n",
       "       MIS_Status ChgOffPrinGr        GrAppv     SBA_Appv  \n",
       "395231      P I F       $0.00   $117,000.00   $99,450.00   \n",
       "\n",
       "[1 rows x 26 columns]"
      ]
     },
     "execution_count": 12,
     "metadata": {},
     "output_type": "execute_result"
    }
   ],
   "source": [
    "df[df.NewExist.isna()].head(1)"
   ]
  },
  {
   "cell_type": "code",
   "execution_count": 13,
   "id": "fa66a7e2",
   "metadata": {},
   "outputs": [],
   "source": [
    "df.dropna(subset='NewExist', inplace= True)"
   ]
  },
  {
   "cell_type": "markdown",
   "id": "64f9b0db",
   "metadata": {},
   "source": [
    "### RevLineCr  "
   ]
  },
  {
   "cell_type": "code",
   "execution_count": 14,
   "id": "b1b63b6f",
   "metadata": {},
   "outputs": [
    {
     "data": {
      "text/html": [
       "<div>\n",
       "<style scoped>\n",
       "    .dataframe tbody tr th:only-of-type {\n",
       "        vertical-align: middle;\n",
       "    }\n",
       "\n",
       "    .dataframe tbody tr th {\n",
       "        vertical-align: top;\n",
       "    }\n",
       "\n",
       "    .dataframe thead th {\n",
       "        text-align: right;\n",
       "    }\n",
       "</style>\n",
       "<table border=\"1\" class=\"dataframe\">\n",
       "  <thead>\n",
       "    <tr style=\"text-align: right;\">\n",
       "      <th></th>\n",
       "      <th>LoanNr_ChkDgt</th>\n",
       "      <th>City</th>\n",
       "      <th>State</th>\n",
       "      <th>Zip</th>\n",
       "      <th>Bank</th>\n",
       "      <th>BankState</th>\n",
       "      <th>NAICS</th>\n",
       "      <th>ApprovalDate</th>\n",
       "      <th>ApprovalFY</th>\n",
       "      <th>Term</th>\n",
       "      <th>...</th>\n",
       "      <th>RevLineCr</th>\n",
       "      <th>LowDoc</th>\n",
       "      <th>ChgOffDate</th>\n",
       "      <th>DisbursementDate</th>\n",
       "      <th>DisbursementGross</th>\n",
       "      <th>BalanceGross</th>\n",
       "      <th>MIS_Status</th>\n",
       "      <th>ChgOffPrinGr</th>\n",
       "      <th>GrAppv</th>\n",
       "      <th>SBA_Appv</th>\n",
       "    </tr>\n",
       "  </thead>\n",
       "  <tbody>\n",
       "    <tr>\n",
       "      <th>2377</th>\n",
       "      <td>1015874006</td>\n",
       "      <td>OVERLAND PARK</td>\n",
       "      <td>KS</td>\n",
       "      <td>66206</td>\n",
       "      <td>BANK OF BLUE VALLEY</td>\n",
       "      <td>KS</td>\n",
       "      <td>0</td>\n",
       "      <td>6-Mar-97</td>\n",
       "      <td>1997</td>\n",
       "      <td>84</td>\n",
       "      <td>...</td>\n",
       "      <td>NaN</td>\n",
       "      <td>Y</td>\n",
       "      <td>NaN</td>\n",
       "      <td>31-May-97</td>\n",
       "      <td>$82,000.00</td>\n",
       "      <td>$0.00</td>\n",
       "      <td>P I F</td>\n",
       "      <td>$0.00</td>\n",
       "      <td>$82,000.00</td>\n",
       "      <td>$65,600.00</td>\n",
       "    </tr>\n",
       "  </tbody>\n",
       "</table>\n",
       "<p>1 rows × 26 columns</p>\n",
       "</div>"
      ],
      "text/plain": [
       "      LoanNr_ChkDgt           City State    Zip                 Bank  \\\n",
       "2377     1015874006  OVERLAND PARK    KS  66206  BANK OF BLUE VALLEY   \n",
       "\n",
       "     BankState  NAICS ApprovalDate ApprovalFY  Term  ...  RevLineCr  LowDoc  \\\n",
       "2377        KS      0     6-Mar-97       1997    84  ...        NaN       Y   \n",
       "\n",
       "      ChgOffDate  DisbursementDate  DisbursementGross  BalanceGross  \\\n",
       "2377         NaN         31-May-97        $82,000.00         $0.00    \n",
       "\n",
       "     MIS_Status ChgOffPrinGr       GrAppv     SBA_Appv  \n",
       "2377      P I F       $0.00   $82,000.00   $65,600.00   \n",
       "\n",
       "[1 rows x 26 columns]"
      ]
     },
     "execution_count": 14,
     "metadata": {},
     "output_type": "execute_result"
    }
   ],
   "source": [
    "# im gonna drop these 4500, due to being such a small percentage of data* ill come back and investigate this.\n",
    "df[df.RevLineCr.isna()].head(1)"
   ]
  },
  {
   "cell_type": "code",
   "execution_count": 15,
   "id": "bd039ef1",
   "metadata": {},
   "outputs": [],
   "source": [
    "df.dropna(subset='RevLineCr', inplace= True)"
   ]
  },
  {
   "cell_type": "markdown",
   "id": "6a1acb56",
   "metadata": {},
   "source": [
    "### LowDoc"
   ]
  },
  {
   "cell_type": "code",
   "execution_count": 16,
   "id": "85554977",
   "metadata": {},
   "outputs": [],
   "source": [
    "df.dropna(subset='LowDoc', inplace= True)"
   ]
  },
  {
   "cell_type": "markdown",
   "id": "80a72bc6",
   "metadata": {},
   "source": [
    "### MIS_Status"
   ]
  },
  {
   "cell_type": "code",
   "execution_count": 62,
   "id": "25695575",
   "metadata": {},
   "outputs": [],
   "source": [
    "df.dropna(subset='MIS_Status', inplace= True)"
   ]
  },
  {
   "cell_type": "markdown",
   "id": "f2d40b52",
   "metadata": {},
   "source": [
    "### Disbursement Date"
   ]
  },
  {
   "cell_type": "code",
   "execution_count": null,
   "id": "c4a7681b",
   "metadata": {},
   "outputs": [],
   "source": [
    "df.dropna(subset='LowDoc', inplace= True)"
   ]
  },
  {
   "cell_type": "code",
   "execution_count": null,
   "id": "54dd003e",
   "metadata": {},
   "outputs": [],
   "source": [
    "DisbursementDate       2368"
   ]
  },
  {
   "cell_type": "markdown",
   "id": "0ec2e474",
   "metadata": {},
   "source": [
    "# Data Types"
   ]
  },
  {
   "cell_type": "markdown",
   "id": "5d8e4d86",
   "metadata": {},
   "source": [
    "#### NewExist"
   ]
  },
  {
   "cell_type": "code",
   "execution_count": 19,
   "id": "bdbc93d7",
   "metadata": {},
   "outputs": [],
   "source": [
    "df.NewExist = df.NewExist.astype('int64')"
   ]
  },
  {
   "cell_type": "markdown",
   "id": "cfae8ddf",
   "metadata": {},
   "source": [
    "#### DisbursementGross"
   ]
  },
  {
   "cell_type": "code",
   "execution_count": null,
   "id": "0d80845d",
   "metadata": {},
   "outputs": [],
   "source": [
    "df.dropna(subset='DisbursementGross', inplace= True)"
   ]
  },
  {
   "cell_type": "markdown",
   "id": "9fbbc721",
   "metadata": {},
   "source": [
    "### DisbursementDate"
   ]
  },
  {
   "cell_type": "code",
   "execution_count": 63,
   "id": "0dfd6c31",
   "metadata": {},
   "outputs": [],
   "source": [
    "df.dropna(subset='DisbursementDate', inplace= True)"
   ]
  },
  {
   "cell_type": "code",
   "execution_count": 20,
   "id": "d1e464bc",
   "metadata": {},
   "outputs": [],
   "source": [
    "# define a function to convert a single string value\n",
    "def convert_price_string(s):\n",
    "    s = re.sub(r'[^\\d\\.]', '', s)\n",
    "    return int(float(s))"
   ]
  },
  {
   "cell_type": "code",
   "execution_count": 21,
   "id": "2cffd0c2",
   "metadata": {},
   "outputs": [],
   "source": [
    "# apply the function to the whole column\n",
    "df['DisbursementGross'] = df['DisbursementGross'].apply(lambda s: convert_price_string(s))\n"
   ]
  },
  {
   "cell_type": "markdown",
   "id": "74217dea",
   "metadata": {},
   "source": [
    "# Balance Gross"
   ]
  },
  {
   "cell_type": "code",
   "execution_count": 22,
   "id": "c92b9477",
   "metadata": {},
   "outputs": [],
   "source": [
    "# apply the function to the whole column\n",
    "df['BalanceGross'] = df['BalanceGross'].apply(lambda s: convert_price_string(s))"
   ]
  },
  {
   "cell_type": "markdown",
   "id": "fc0eb82a",
   "metadata": {},
   "source": [
    "# Dollar object to Int"
   ]
  },
  {
   "cell_type": "code",
   "execution_count": 23,
   "id": "6e84b40c",
   "metadata": {},
   "outputs": [],
   "source": [
    "# apply the function to the whole column\n",
    "df['ChgOffPrinGr'] = df['ChgOffPrinGr'].apply(lambda s: convert_price_string(s))"
   ]
  },
  {
   "cell_type": "code",
   "execution_count": 24,
   "id": "6d7ac0e7",
   "metadata": {},
   "outputs": [],
   "source": [
    "# apply the function to the whole column\n",
    "df['GrAppv'] = df['GrAppv'].apply(lambda s: convert_price_string(s))"
   ]
  },
  {
   "cell_type": "code",
   "execution_count": 25,
   "id": "a0186193",
   "metadata": {},
   "outputs": [],
   "source": [
    "# apply the function to the whole column\n",
    "df['SBA_Appv'] = df['SBA_Appv'].apply(lambda s: convert_price_string(s))"
   ]
  },
  {
   "cell_type": "markdown",
   "id": "63d54a90",
   "metadata": {},
   "source": [
    "# data types"
   ]
  },
  {
   "cell_type": "code",
   "execution_count": 26,
   "id": "5b5a6725",
   "metadata": {
    "scrolled": true
   },
   "outputs": [],
   "source": [
    "# dropping \tLoanNr_ChkDgt due to being a primary key, index is fine.\n",
    "df.drop(columns= 'LoanNr_ChkDgt',inplace=True)"
   ]
  },
  {
   "cell_type": "markdown",
   "id": "86bf0628",
   "metadata": {},
   "source": [
    "# date time fixes"
   ]
  },
  {
   "cell_type": "code",
   "execution_count": 36,
   "id": "65f04b32",
   "metadata": {},
   "outputs": [],
   "source": [
    "# convert the 'dated' columns to datetime format\n",
    "df['ApprovalDate'] = pd.to_datetime(df['ApprovalDate'], format='%d-%b-%y')"
   ]
  },
  {
   "cell_type": "code",
   "execution_count": 37,
   "id": "37ac4e86",
   "metadata": {},
   "outputs": [],
   "source": [
    "df['DisbursementDate'] = pd.to_datetime(df['DisbursementDate'], format='%d-%b-%y')"
   ]
  },
  {
   "cell_type": "code",
   "execution_count": 38,
   "id": "3d056553",
   "metadata": {},
   "outputs": [],
   "source": [
    "df['ChgOffDate'] = pd.to_datetime(df['ChgOffDate'], format='%d-%b-%y')"
   ]
  },
  {
   "cell_type": "markdown",
   "id": "cae84c69",
   "metadata": {},
   "source": [
    "# date time fixes"
   ]
  },
  {
   "cell_type": "code",
   "execution_count": null,
   "id": "2c034057",
   "metadata": {},
   "outputs": [],
   "source": [
    "df['DisbursementDate'] = pd.to_datetime(df['DisbursementDate'], format='%d-%b-%y')"
   ]
  },
  {
   "cell_type": "code",
   "execution_count": 39,
   "id": "8c69c23b",
   "metadata": {},
   "outputs": [
    {
     "data": {
      "text/plain": [
       "Zip                           int64\n",
       "NAICS                         int64\n",
       "ApprovalDate         datetime64[ns]\n",
       "Term                          int64\n",
       "NoEmp                         int64\n",
       "NewExist                      int64\n",
       "CreateJob                     int64\n",
       "RetainedJob                   int64\n",
       "FranchiseCode                 int64\n",
       "UrbanRural                    int64\n",
       "DisbursementDate     datetime64[ns]\n",
       "DisbursementGross             int64\n",
       "BalanceGross                  int64\n",
       "ChgOffPrinGr                  int64\n",
       "GrAppv                        int64\n",
       "SBA_Appv                      int64\n",
       "dtype: object"
      ]
     },
     "execution_count": 39,
     "metadata": {},
     "output_type": "execute_result"
    }
   ],
   "source": [
    "nums.dtypes"
   ]
  },
  {
   "cell_type": "code",
   "execution_count": 43,
   "id": "68d95495",
   "metadata": {},
   "outputs": [
    {
     "data": {
      "text/html": [
       "<div>\n",
       "<style scoped>\n",
       "    .dataframe tbody tr th:only-of-type {\n",
       "        vertical-align: middle;\n",
       "    }\n",
       "\n",
       "    .dataframe tbody tr th {\n",
       "        vertical-align: top;\n",
       "    }\n",
       "\n",
       "    .dataframe thead th {\n",
       "        text-align: right;\n",
       "    }\n",
       "</style>\n",
       "<table border=\"1\" class=\"dataframe\">\n",
       "  <thead>\n",
       "    <tr style=\"text-align: right;\">\n",
       "      <th></th>\n",
       "      <th>City</th>\n",
       "      <th>State</th>\n",
       "      <th>Bank</th>\n",
       "      <th>BankState</th>\n",
       "      <th>ApprovalFY</th>\n",
       "      <th>RevLineCr</th>\n",
       "      <th>LowDoc</th>\n",
       "      <th>ChgOffDate</th>\n",
       "      <th>MIS_Status</th>\n",
       "    </tr>\n",
       "  </thead>\n",
       "  <tbody>\n",
       "    <tr>\n",
       "      <th>0</th>\n",
       "      <td>EVANSVILLE</td>\n",
       "      <td>IN</td>\n",
       "      <td>FIFTH THIRD BANK</td>\n",
       "      <td>OH</td>\n",
       "      <td>1997</td>\n",
       "      <td>N</td>\n",
       "      <td>Y</td>\n",
       "      <td>NaN</td>\n",
       "      <td>P I F</td>\n",
       "    </tr>\n",
       "    <tr>\n",
       "      <th>1</th>\n",
       "      <td>NEW PARIS</td>\n",
       "      <td>IN</td>\n",
       "      <td>1ST SOURCE BANK</td>\n",
       "      <td>IN</td>\n",
       "      <td>1997</td>\n",
       "      <td>N</td>\n",
       "      <td>Y</td>\n",
       "      <td>NaN</td>\n",
       "      <td>P I F</td>\n",
       "    </tr>\n",
       "    <tr>\n",
       "      <th>2</th>\n",
       "      <td>BLOOMINGTON</td>\n",
       "      <td>IN</td>\n",
       "      <td>GRANT COUNTY STATE BANK</td>\n",
       "      <td>IN</td>\n",
       "      <td>1997</td>\n",
       "      <td>N</td>\n",
       "      <td>N</td>\n",
       "      <td>NaN</td>\n",
       "      <td>P I F</td>\n",
       "    </tr>\n",
       "    <tr>\n",
       "      <th>3</th>\n",
       "      <td>BROKEN ARROW</td>\n",
       "      <td>OK</td>\n",
       "      <td>1ST NATL BK &amp; TR CO OF BROKEN</td>\n",
       "      <td>OK</td>\n",
       "      <td>1997</td>\n",
       "      <td>N</td>\n",
       "      <td>Y</td>\n",
       "      <td>NaN</td>\n",
       "      <td>P I F</td>\n",
       "    </tr>\n",
       "    <tr>\n",
       "      <th>4</th>\n",
       "      <td>ORLANDO</td>\n",
       "      <td>FL</td>\n",
       "      <td>FLORIDA BUS. DEVEL CORP</td>\n",
       "      <td>FL</td>\n",
       "      <td>1997</td>\n",
       "      <td>N</td>\n",
       "      <td>N</td>\n",
       "      <td>NaN</td>\n",
       "      <td>P I F</td>\n",
       "    </tr>\n",
       "    <tr>\n",
       "      <th>...</th>\n",
       "      <td>...</td>\n",
       "      <td>...</td>\n",
       "      <td>...</td>\n",
       "      <td>...</td>\n",
       "      <td>...</td>\n",
       "      <td>...</td>\n",
       "      <td>...</td>\n",
       "      <td>...</td>\n",
       "      <td>...</td>\n",
       "    </tr>\n",
       "    <tr>\n",
       "      <th>899159</th>\n",
       "      <td>UPPER ARLINGTON</td>\n",
       "      <td>OH</td>\n",
       "      <td>JPMORGAN CHASE BANK NATL ASSOC</td>\n",
       "      <td>IL</td>\n",
       "      <td>1997</td>\n",
       "      <td>0</td>\n",
       "      <td>N</td>\n",
       "      <td>NaN</td>\n",
       "      <td>P I F</td>\n",
       "    </tr>\n",
       "    <tr>\n",
       "      <th>899160</th>\n",
       "      <td>COLUMBUS</td>\n",
       "      <td>OH</td>\n",
       "      <td>JPMORGAN CHASE BANK NATL ASSOC</td>\n",
       "      <td>IL</td>\n",
       "      <td>1997</td>\n",
       "      <td>Y</td>\n",
       "      <td>N</td>\n",
       "      <td>NaN</td>\n",
       "      <td>P I F</td>\n",
       "    </tr>\n",
       "    <tr>\n",
       "      <th>899161</th>\n",
       "      <td>SANTA MARIA</td>\n",
       "      <td>CA</td>\n",
       "      <td>RABOBANK, NATIONAL ASSOCIATION</td>\n",
       "      <td>CA</td>\n",
       "      <td>1997</td>\n",
       "      <td>N</td>\n",
       "      <td>N</td>\n",
       "      <td>NaN</td>\n",
       "      <td>P I F</td>\n",
       "    </tr>\n",
       "    <tr>\n",
       "      <th>899162</th>\n",
       "      <td>HONOLULU</td>\n",
       "      <td>HI</td>\n",
       "      <td>BANK OF HAWAII</td>\n",
       "      <td>HI</td>\n",
       "      <td>1997</td>\n",
       "      <td>N</td>\n",
       "      <td>Y</td>\n",
       "      <td>8-Mar-00</td>\n",
       "      <td>CHGOFF</td>\n",
       "    </tr>\n",
       "    <tr>\n",
       "      <th>899163</th>\n",
       "      <td>KAILUA</td>\n",
       "      <td>HI</td>\n",
       "      <td>CENTRAL PACIFIC BANK</td>\n",
       "      <td>HI</td>\n",
       "      <td>1997</td>\n",
       "      <td>N</td>\n",
       "      <td>N</td>\n",
       "      <td>NaN</td>\n",
       "      <td>P I F</td>\n",
       "    </tr>\n",
       "  </tbody>\n",
       "</table>\n",
       "<p>888400 rows × 9 columns</p>\n",
       "</div>"
      ],
      "text/plain": [
       "                   City State                            Bank BankState  \\\n",
       "0            EVANSVILLE    IN                FIFTH THIRD BANK        OH   \n",
       "1             NEW PARIS    IN                 1ST SOURCE BANK        IN   \n",
       "2           BLOOMINGTON    IN         GRANT COUNTY STATE BANK        IN   \n",
       "3          BROKEN ARROW    OK   1ST NATL BK & TR CO OF BROKEN        OK   \n",
       "4               ORLANDO    FL         FLORIDA BUS. DEVEL CORP        FL   \n",
       "...                 ...   ...                             ...       ...   \n",
       "899159  UPPER ARLINGTON    OH  JPMORGAN CHASE BANK NATL ASSOC        IL   \n",
       "899160         COLUMBUS    OH  JPMORGAN CHASE BANK NATL ASSOC        IL   \n",
       "899161      SANTA MARIA    CA  RABOBANK, NATIONAL ASSOCIATION        CA   \n",
       "899162         HONOLULU    HI                  BANK OF HAWAII        HI   \n",
       "899163           KAILUA    HI            CENTRAL PACIFIC BANK        HI   \n",
       "\n",
       "       ApprovalFY RevLineCr LowDoc ChgOffDate MIS_Status  \n",
       "0            1997         N      Y        NaN      P I F  \n",
       "1            1997         N      Y        NaN      P I F  \n",
       "2            1997         N      N        NaN      P I F  \n",
       "3            1997         N      Y        NaN      P I F  \n",
       "4            1997         N      N        NaN      P I F  \n",
       "...           ...       ...    ...        ...        ...  \n",
       "899159       1997         0      N        NaN      P I F  \n",
       "899160       1997         Y      N        NaN      P I F  \n",
       "899161       1997         N      N        NaN      P I F  \n",
       "899162       1997         N      Y   8-Mar-00     CHGOFF  \n",
       "899163       1997         N      N        NaN      P I F  \n",
       "\n",
       "[888400 rows x 9 columns]"
      ]
     },
     "execution_count": 43,
     "metadata": {},
     "output_type": "execute_result"
    }
   ],
   "source": [
    "cats"
   ]
  },
  {
   "cell_type": "code",
   "execution_count": 29,
   "id": "fe04e4db",
   "metadata": {},
   "outputs": [],
   "source": [
    "nums = df.select_dtypes(exclude = object)\n",
    "cats = df.select_dtypes(include = object)"
   ]
  },
  {
   "cell_type": "markdown",
   "id": "bf9c9f57",
   "metadata": {},
   "source": [
    "# Overall Exploration DataFrame"
   ]
  },
  {
   "cell_type": "code",
   "execution_count": 66,
   "id": "9c45fec9",
   "metadata": {},
   "outputs": [],
   "source": [
    "df.to_csv('explore.csv')"
   ]
  },
  {
   "cell_type": "code",
   "execution_count": null,
   "id": "093c4b61",
   "metadata": {},
   "outputs": [],
   "source": []
  }
 ],
 "metadata": {
  "kernelspec": {
   "display_name": "Python 3 (ipykernel)",
   "language": "python",
   "name": "python3"
  },
  "language_info": {
   "codemirror_mode": {
    "name": "ipython",
    "version": 3
   },
   "file_extension": ".py",
   "mimetype": "text/x-python",
   "name": "python",
   "nbconvert_exporter": "python",
   "pygments_lexer": "ipython3",
   "version": "3.9.13"
  }
 },
 "nbformat": 4,
 "nbformat_minor": 5
}
