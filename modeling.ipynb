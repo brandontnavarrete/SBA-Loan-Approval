{
 "cells": [
  {
   "cell_type": "markdown",
   "id": "b8d3fe8f",
   "metadata": {},
   "source": [
    "# imports"
   ]
  },
  {
   "cell_type": "code",
   "execution_count": 1,
   "id": "30724315",
   "metadata": {},
   "outputs": [],
   "source": [
    "import pandas as pd\n",
    "import numpy as np\n",
    "\n",
    "# models\n",
    "import xgboost as xgb\n",
    "\n",
    "# data split\n",
    "from sklearn.model_selection import train_test_split\n",
    "\n",
    "# sklearn metrics\n",
    "from sklearn.metrics import classification_report\n",
    "\n",
    "from sklearn.metrics import accuracy_score, recall_score\n"
   ]
  },
  {
   "cell_type": "code",
   "execution_count": 2,
   "id": "16ff3792",
   "metadata": {},
   "outputs": [],
   "source": [
    "df = pd.read_csv('modeling_feats.csv',index_col= 0 )"
   ]
  },
  {
   "cell_type": "markdown",
   "id": "0fb4eacf",
   "metadata": {},
   "source": [
    "# X and y split"
   ]
  },
  {
   "cell_type": "code",
   "execution_count": 3,
   "id": "ee33d490",
   "metadata": {},
   "outputs": [],
   "source": [
    "# features\n",
    "X = df.drop(columns= ['target','retained_job','chg_off_prin_gr'])\n",
    "# Select dependent variable\n",
    "y = df['target']"
   ]
  },
  {
   "cell_type": "code",
   "execution_count": 4,
   "id": "e5081542",
   "metadata": {},
   "outputs": [
    {
     "data": {
      "text/html": [
       "<div>\n",
       "<style scoped>\n",
       "    .dataframe tbody tr th:only-of-type {\n",
       "        vertical-align: middle;\n",
       "    }\n",
       "\n",
       "    .dataframe tbody tr th {\n",
       "        vertical-align: top;\n",
       "    }\n",
       "\n",
       "    .dataframe thead th {\n",
       "        text-align: right;\n",
       "    }\n",
       "</style>\n",
       "<table border=\"1\" class=\"dataframe\">\n",
       "  <thead>\n",
       "    <tr style=\"text-align: right;\">\n",
       "      <th></th>\n",
       "      <th>zip</th>\n",
       "      <th>term</th>\n",
       "      <th>no_emp</th>\n",
       "      <th>new_exist</th>\n",
       "      <th>create_job</th>\n",
       "      <th>franchise_code</th>\n",
       "      <th>urban_rural</th>\n",
       "      <th>rev_line_cr</th>\n",
       "      <th>low_doc</th>\n",
       "      <th>disbursement_gross</th>\n",
       "      <th>balance_gross</th>\n",
       "      <th>gr_appv</th>\n",
       "      <th>s_b_a__appv</th>\n",
       "      <th>sec_points</th>\n",
       "      <th>state_score</th>\n",
       "    </tr>\n",
       "  </thead>\n",
       "  <tbody>\n",
       "    <tr>\n",
       "      <th>0</th>\n",
       "      <td>47711</td>\n",
       "      <td>84</td>\n",
       "      <td>4</td>\n",
       "      <td>2</td>\n",
       "      <td>0</td>\n",
       "      <td>1</td>\n",
       "      <td>0</td>\n",
       "      <td>0</td>\n",
       "      <td>1</td>\n",
       "      <td>60000</td>\n",
       "      <td>0</td>\n",
       "      <td>60000</td>\n",
       "      <td>48000</td>\n",
       "      <td>45</td>\n",
       "      <td>3</td>\n",
       "    </tr>\n",
       "  </tbody>\n",
       "</table>\n",
       "</div>"
      ],
      "text/plain": [
       "     zip  term  no_emp  new_exist  create_job  franchise_code  urban_rural  \\\n",
       "0  47711    84       4          2           0               1            0   \n",
       "\n",
       "   rev_line_cr  low_doc  disbursement_gross  balance_gross  gr_appv  \\\n",
       "0            0        1               60000              0    60000   \n",
       "\n",
       "   s_b_a__appv  sec_points  state_score  \n",
       "0        48000          45            3  "
      ]
     },
     "execution_count": 4,
     "metadata": {},
     "output_type": "execute_result"
    }
   ],
   "source": [
    "# checking X \n",
    "X.head(1)"
   ]
  },
  {
   "cell_type": "code",
   "execution_count": 5,
   "id": "cea22a87",
   "metadata": {},
   "outputs": [
    {
     "data": {
      "text/plain": [
       "0         0\n",
       "1         0\n",
       "2         0\n",
       "3         0\n",
       "4         0\n",
       "         ..\n",
       "899158    0\n",
       "899160    0\n",
       "899161    0\n",
       "899162    1\n",
       "899163    0\n",
       "Name: target, Length: 611155, dtype: int64"
      ]
     },
     "execution_count": 5,
     "metadata": {},
     "output_type": "execute_result"
    }
   ],
   "source": [
    "# checking y\n",
    "y"
   ]
  },
  {
   "cell_type": "markdown",
   "id": "4f7f5644",
   "metadata": {},
   "source": [
    "# split the data"
   ]
  },
  {
   "cell_type": "code",
   "execution_count": 6,
   "id": "7af8c7a6",
   "metadata": {},
   "outputs": [],
   "source": [
    "# split the data\n",
    "from sklearn.model_selection import train_test_split\n",
    "X_train, X_test, y_train, y_test = train_test_split(X, y, test_size = 0.2, random_state = 42)"
   ]
  },
  {
   "cell_type": "code",
   "execution_count": 7,
   "id": "77d470ac",
   "metadata": {},
   "outputs": [],
   "source": [
    "# different imports i might try\n",
    "from sklearn.model_selection import GridSearchCV\n",
    "from sklearn.datasets import make_classification\n",
    "from sklearn.metrics import f1_score, make_scorer, confusion_matrix\n",
    "from sklearn.ensemble import RandomForestClassifier\n"
   ]
  },
  {
   "cell_type": "markdown",
   "id": "d67a999c",
   "metadata": {},
   "source": [
    "# scaling"
   ]
  },
  {
   "cell_type": "code",
   "execution_count": 8,
   "id": "7f1d0a76",
   "metadata": {},
   "outputs": [],
   "source": [
    "\n",
    "from sklearn.preprocessing import StandardScaler\n",
    "# creating a scaler instance\n",
    "scaler = StandardScaler()\n",
    "\n",
    "# fit and transforming to train\n",
    "X_train_sc =scaler.fit_transform(X_train)\n",
    "\n",
    "# transform to test\n",
    "X_test_sc = scaler.transform(X_test)"
   ]
  },
  {
   "cell_type": "code",
   "execution_count": 9,
   "id": "72a3a246",
   "metadata": {},
   "outputs": [],
   "source": [
    "# Creating dataframe from scaled data\n",
    "X_train_sc = pd.DataFrame(X_train_sc)\n",
    "X_test_sc = pd.DataFrame(X_test_sc)\n"
   ]
  },
  {
   "cell_type": "markdown",
   "id": "2a95af65",
   "metadata": {},
   "source": [
    "# gridsearch"
   ]
  },
  {
   "cell_type": "markdown",
   "id": "585e8803",
   "metadata": {},
   "source": [
    "## random forest"
   ]
  },
  {
   "cell_type": "code",
   "execution_count": 16,
   "id": "3b97523b",
   "metadata": {},
   "outputs": [
    {
     "name": "stdout",
     "output_type": "stream",
     "text": [
      "Fitting 2 folds for each of 36 candidates, totalling 72 fits\n",
      "Best parameters:  {'max_depth': 5, 'max_features': 'sqrt', 'min_samples_leaf': 1, 'min_samples_split': 7, 'n_estimators': 10}\n",
      "Best score:  0.887336273122203\n"
     ]
    }
   ],
   "source": [
    "# Create a random forest classifier\n",
    "rfc = RandomForestClassifier()\n",
    "\n",
    "# Define the parameter grid to search over\n",
    "param_grid = {\n",
    "    'n_estimators': [5,7,10],\n",
    "    'max_depth': [3,5],\n",
    "    'max_features': ['sqrt'],\n",
    "    'min_samples_split': [2, 5, 7],\n",
    "    'min_samples_leaf': [1, 3]\n",
    "}\n",
    "\n",
    "# Create a grid search object\n",
    "grid_search = GridSearchCV(\n",
    "    estimator=rfc,\n",
    "    # using the dictionary\n",
    "    param_grid=param_grid,\n",
    "    # cross validate\n",
    "    cv = 2,\n",
    "    n_jobs = 2,\n",
    "    # stop after 3 iteration with no improvment\n",
    "    verbose= 3,\n",
    "    # metric\n",
    "    scoring='accuracy'\n",
    ")\n",
    "\n",
    "\n",
    "# Fit the grid search to the data scaled data\n",
    "grid_search.fit(X_train_sc, y_train)\n",
    "\n",
    "# Print the best parameters and score\n",
    "print(\"Best parameters: \", grid_search.best_params_)\n",
    "print(\"Best score: \", grid_search.best_score_)"
   ]
  },
  {
   "cell_type": "markdown",
   "id": "84897762",
   "metadata": {},
   "source": [
    "# XGBoost"
   ]
  },
  {
   "cell_type": "code",
   "execution_count": 13,
   "id": "15f9a32b",
   "metadata": {},
   "outputs": [],
   "source": [
    "# create an object instances\n",
    "model = xgb.XGBClassifier()\n",
    "\n",
    "# fit model X_train_scaled, and y train\n",
    "xgb_model = model.fit(X_train_sc, y_train)"
   ]
  },
  {
   "cell_type": "code",
   "execution_count": 14,
   "id": "adb5adcd",
   "metadata": {},
   "outputs": [
    {
     "name": "stdout",
     "output_type": "stream",
     "text": [
      "Model XGboost Accuracy: 0.95\n"
     ]
    }
   ],
   "source": [
    "# creating prediction based on X_test_scaled\n",
    "y_hat = xgb_model.predict(X_test_sc)\n",
    "# show accuracy score\n",
    "print(f'Model XGboost Accuracy: {accuracy_score(y_test, y_hat):.2f}')"
   ]
  },
  {
   "cell_type": "code",
   "execution_count": null,
   "id": "d0b9946e",
   "metadata": {},
   "outputs": [],
   "source": []
  }
 ],
 "metadata": {
  "kernelspec": {
   "display_name": "Python 3 (ipykernel)",
   "language": "python",
   "name": "python3"
  },
  "language_info": {
   "codemirror_mode": {
    "name": "ipython",
    "version": 3
   },
   "file_extension": ".py",
   "mimetype": "text/x-python",
   "name": "python",
   "nbconvert_exporter": "python",
   "pygments_lexer": "ipython3",
   "version": "3.9.13"
  }
 },
 "nbformat": 4,
 "nbformat_minor": 5
}
