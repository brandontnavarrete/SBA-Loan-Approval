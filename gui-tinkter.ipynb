{
 "cells": [
  {
   "cell_type": "markdown",
   "id": "bb7eb357",
   "metadata": {},
   "source": [
    "# dependencies"
   ]
  },
  {
   "cell_type": "code",
   "execution_count": 1,
   "id": "20dab5b9",
   "metadata": {},
   "outputs": [
    {
     "name": "stdout",
     "output_type": "stream",
     "text": [
      "Requirement already satisfied: customtkinter in /usr/local/anaconda3/lib/python3.9/site-packages (5.1.2)\n",
      "Requirement already satisfied: darkdetect in /usr/local/anaconda3/lib/python3.9/site-packages (from customtkinter) (0.8.0)\n"
     ]
    }
   ],
   "source": [
    "!pip install customtkinter"
   ]
  },
  {
   "cell_type": "markdown",
   "id": "624cb117",
   "metadata": {},
   "source": [
    "# imports"
   ]
  },
  {
   "cell_type": "code",
   "execution_count": 8,
   "id": "9d22aef4",
   "metadata": {},
   "outputs": [],
   "source": [
    "# imports\n",
    "import numpy as np\n",
    "import pandas as pd\n",
    "import customtkinter\n",
    "\n",
    "# nuissance faults\n",
    "import warnings\n",
    "warnings.filterwarnings('ignore')\n"
   ]
  },
  {
   "cell_type": "code",
   "execution_count": 9,
   "id": "d4d481b7",
   "metadata": {},
   "outputs": [],
   "source": [
    "def mdl():\n",
    "    # read input data from entry fields\n",
    "    zip_code = int(entry_zip.get())\n",
    "    term = int(entry_term.get())\n",
    "    no_emp = int(entry_no_emp.get())\n",
    "    jobs_creating = float(entry_jobs_creating.get())\n",
    "    is_franchise = int(entry_is_franchise.get())\n",
    "    is_urban = int(entry_is_urban.get())\n",
    "    revolving_line_of_credit = int(entry_revolving_line_of_credit.get())\n",
    "    low_doc_status = int(entry_low_doc_status.get())\n",
    "    disbursement_gross = float(entry_disbursement_gross.get())\n",
    "    gross_balance = float(entry_gross_balance.get())\n",
    "    gross_amount_approved = float(entry_gross_amount_approved.get())\n",
    "    sba_approved_amount = float(entry_sba_approved_amount.get())\n",
    "    sector = int(entry_sector.get())\n",
    "    state_points = int(entry_state_points.get())\n",
    "\n",
    "    # load the data and preprocess it\n",
    "    data = pd.read_csv('path/to/your/data.csv') # replace 'path/to/your/data.csv' with the actual path to your data file\n",
    "    X = data.drop('target_variable', axis=1) # replace 'target_variable' with the name of your target variable column\n",
    "    y = data['target_variable']\n",
    "    scaler = StandardScaler()\n",
    "    X_sc = scaler.fit_transform(X)\n",
    "    \n",
    "    # train the model on the preprocessed data\n",
    "    model = xgb.XGBClassifier()\n",
    "    xgb_model = model.fit(X_sc, y)\n",
    "    \n",
    "    # create a prediction using the input data and the loaded model\n",
    "    X_pred = np.array([[zip_code, term, no_emp, jobs_creating, is_franchise, is_urban, revolving_line_of_credit, low_doc_status, disbursement_gross, gross_balance, gross_amount_approved, sba_approved_amount, sector, state_points]]) # shape of input data depends on your model's requirements\n",
    "    X_pred_sc = scaler.transform(X_pred)\n",
    "    y_pred = xgb_model.predict(X_pred_sc)\n",
    "    \n",
    "    # display the prediction to the user\n",
    "    output_label = customtkinter.CTkLabel(master=frame, text=f\"Loan Approval Probability: {y_pred[0]:.2f}\")\n",
    "    output_label.pack(pady=12, padx=10)\n"
   ]
  },
  {
   "cell_type": "code",
   "execution_count": 10,
   "id": "4b0537cb",
   "metadata": {},
   "outputs": [],
   "source": [
    "# basic parameters\n",
    "customtkinter.set_appearance_mode('system')\n",
    "customtkinter.set_default_color_theme('dark-blue')\n",
    "\n",
    "# basic gui\n",
    "root = customtkinter.CTk()\n",
    "root.geometry(\"600x500\")\n",
    "\n",
    "# master frame \n",
    "    \n",
    "frame = customtkinter.CTkFrame(master=root)\n",
    "frame.pack(pady=20, padx=60, fill='both', expand=True)\n",
    "\n",
    "label = customtkinter.CTkLabel(master=frame, text='SBA Loan Approval')\n",
    "label.pack(pady=12, padx=10)\n",
    "\n",
    "entry_zip = customtkinter.CTkEntry(master=frame, placeholder_text='Zip Code')\n",
    "entry_zip.pack(pady=12, padx=10)\n",
    "\n",
    "entry_term = customtkinter.CTkEntry(master=frame, placeholder_text='Term')\n",
    "entry_term.pack(pady=12, padx=10)\n",
    "\n",
    "entry_no_emp = customtkinter.CTkEntry(master=frame, placeholder_text='Number of Employees')\n",
    "entry_no_emp.pack(pady=12, padx=10)\n",
    "\n",
    "entry_jobs_creating = customtkinter.CTkEntry(master=frame, placeholder_text='Number of Jobs Created')\n",
    "entry_jobs_creating.pack(pady=12, padx=10)\n",
    "\n",
    "entry_franchise = customtkinter.CTkEntry(master=frame, placeholder_text='Is Franchise?')\n",
    "entry_franchise.pack(pady=12, padx=10)\n",
    "\n",
    "entry_area = customtkinter.CTkEntry(master=frame, placeholder_text='Urban or Rural Area')\n",
    "entry_area.pack(pady=12, padx=10)\n",
    "\n",
    "entry_rev_cred = customtkinter.CTkEntry(master=frame, placeholder_text='Revolving Line of Credit')\n",
    "entry_rev_cred.pack(pady=12, padx=10)\n",
    "\n",
    "entry_low_doc = customtkinter.CTkEntry(master=frame, placeholder_text='Low Doc Status')\n",
    "entry_low_doc.pack(pady=12, padx=10)\n",
    "\n",
    "entry_gross_disburse = customtkinter.CTkEntry(master=frame, placeholder_text='Gross Disbursement')\n",
    "entry_gross_disburse.pack(pady=12, padx=10)\n",
    "\n",
    "entry_gross_balance = customtkinter.CTkEntry(master=frame, placeholder_text='Gross Balance')\n",
    "entry_gross_balance.pack(pady=12, padx=10)\n",
    "\n",
    "entry_gross_amnt_approved = customtkinter.CTkEntry(master=frame, placeholder_text='Gross Amount Approved')\n",
    "entry_gross_amnt_approved.pack(pady=12, padx=10)\n",
    "\n",
    "entry_SBA_approved_amnt = customtkinter.CTkEntry(master=frame, placeholder_text='SBA approved amount')\n",
    "entry_SBA_approved_amnt.pack(pady=12, padx=10)\n",
    "\n",
    "entry_sector = customtkinter.CTkEntry(master=frame, placeholder_text='Job Sector')\n",
    "entry_sector.pack(pady=12, padx=10)\n",
    "\n",
    "entry_state_points = customtkinter.CTkEntry(master=frame, placeholder_text='State Points')\n",
    "entry_state_points.pack(pady=12, padx=10)\n",
    "\n",
    "button = customtkinter.CTkButton(master = frame, text = 'Submit Application', command = mdl)\n",
    "button.pack(pady = 12,padx =10)\n",
    "\n",
    "checkbox = customtkinter.CTkCheckBox(master = frame, text = 'Save Account Information')\n",
    "checkbox.pack(pady = 12,padx =10)\n",
    "\n",
    "root.mainloop()\n"
   ]
  },
  {
   "cell_type": "code",
   "execution_count": null,
   "id": "dd2f3d82",
   "metadata": {},
   "outputs": [],
   "source": []
  },
  {
   "cell_type": "code",
   "execution_count": null,
   "id": "4c9cf528",
   "metadata": {},
   "outputs": [],
   "source": []
  },
  {
   "cell_type": "code",
   "execution_count": null,
   "id": "a54fc69a",
   "metadata": {},
   "outputs": [],
   "source": []
  }
 ],
 "metadata": {
  "kernelspec": {
   "display_name": "Python 3 (ipykernel)",
   "language": "python",
   "name": "python3"
  },
  "language_info": {
   "codemirror_mode": {
    "name": "ipython",
    "version": 3
   },
   "file_extension": ".py",
   "mimetype": "text/x-python",
   "name": "python",
   "nbconvert_exporter": "python",
   "pygments_lexer": "ipython3",
   "version": "3.9.13"
  }
 },
 "nbformat": 4,
 "nbformat_minor": 5
}
