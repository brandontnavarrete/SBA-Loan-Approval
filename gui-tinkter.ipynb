{
 "cells": [
  {
   "cell_type": "markdown",
   "id": "317082c7",
   "metadata": {},
   "source": [
    "# dependencies"
   ]
  },
  {
   "cell_type": "code",
   "execution_count": 4,
   "id": "5dfaf61d",
   "metadata": {},
   "outputs": [
    {
     "name": "stdout",
     "output_type": "stream",
     "text": [
      "Collecting customtkinter\n",
      "  Downloading customtkinter-5.1.2-py3-none-any.whl (295 kB)\n",
      "\u001b[2K     \u001b[90m━━━━━━━━━━━━━━━━━━━━━━━━━━━━━━━━━━━━━━━\u001b[0m \u001b[32m295.1/295.1 kB\u001b[0m \u001b[31m3.5 MB/s\u001b[0m eta \u001b[36m0:00:00\u001b[0ma \u001b[36m0:00:01\u001b[0m\n",
      "\u001b[?25hCollecting darkdetect\n",
      "  Downloading darkdetect-0.8.0-py3-none-any.whl (9.0 kB)\n",
      "Installing collected packages: darkdetect, customtkinter\n",
      "Successfully installed customtkinter-5.1.2 darkdetect-0.8.0\n"
     ]
    }
   ],
   "source": [
    "!pip install customtkinter"
   ]
  },
  {
   "cell_type": "markdown",
   "id": "505cd1e8",
   "metadata": {},
   "source": [
    "# imports"
   ]
  },
  {
   "cell_type": "code",
   "execution_count": 5,
   "id": "f4bf9031",
   "metadata": {},
   "outputs": [],
   "source": [
    "# imports\n",
    "import numpy as np\n",
    "import pandas as pd\n",
    "import customtkinter\n",
    "\n",
    "\n",
    "import warnings\n",
    "warnings.filterwarnings('ignore')\n"
   ]
  },
  {
   "cell_type": "code",
   "execution_count": 6,
   "id": "c54b8528",
   "metadata": {},
   "outputs": [],
   "source": [
    "# basic parameters\n",
    "customtkinter.set_appearance_mode('system')\n",
    "customtkinter.set_default_color_theme('dark-blue')\n"
   ]
  },
  {
   "cell_type": "code",
   "execution_count": 9,
   "id": "dc63aad9",
   "metadata": {},
   "outputs": [],
   "source": [
    "# basic gui\n",
    "root = customtkinter.CTk()\n",
    "root.geometry(\"500x350\")\n",
    "\n"
   ]
  },
  {
   "cell_type": "code",
   "execution_count": null,
   "id": "0bb7c70f",
   "metadata": {},
   "outputs": [],
   "source": [
    "def ML():"
   ]
  }
 ],
 "metadata": {
  "kernelspec": {
   "display_name": "Python 3 (ipykernel)",
   "language": "python",
   "name": "python3"
  },
  "language_info": {
   "codemirror_mode": {
    "name": "ipython",
    "version": 3
   },
   "file_extension": ".py",
   "mimetype": "text/x-python",
   "name": "python",
   "nbconvert_exporter": "python",
   "pygments_lexer": "ipython3",
   "version": "3.9.13"
  }
 },
 "nbformat": 4,
 "nbformat_minor": 5
}
