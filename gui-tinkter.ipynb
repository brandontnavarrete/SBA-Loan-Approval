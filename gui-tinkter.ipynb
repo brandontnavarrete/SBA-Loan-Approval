{
 "cells": [
  {
   "cell_type": "markdown",
   "id": "67176f35",
   "metadata": {},
   "source": [
    "# dependencies"
   ]
  },
  {
   "cell_type": "code",
   "execution_count": 1,
   "id": "70f44aa8",
   "metadata": {},
   "outputs": [
    {
     "name": "stdout",
     "output_type": "stream",
     "text": [
      "Requirement already satisfied: customtkinter in /usr/local/anaconda3/lib/python3.9/site-packages (5.1.2)\r\n",
      "Requirement already satisfied: darkdetect in /usr/local/anaconda3/lib/python3.9/site-packages (from customtkinter) (0.8.0)\r\n"
     ]
    }
   ],
   "source": [
    "!pip install customtkinter"
   ]
  },
  {
   "cell_type": "markdown",
   "id": "374620e4",
   "metadata": {},
   "source": [
    "# imports"
   ]
  },
  {
   "cell_type": "code",
   "execution_count": 14,
   "id": "1691ebf3",
   "metadata": {},
   "outputs": [],
   "source": [
    "# imports\n",
    "import numpy as np\n",
    "import pandas as pd\n",
    "import customtkinter\n",
    "\n",
    "# nuissance faults\n",
    "import warnings\n",
    "warnings.filterwarnings('ignore')\n"
   ]
  },
  {
   "cell_type": "code",
   "execution_count": 15,
   "id": "bbdc5bae",
   "metadata": {},
   "outputs": [],
   "source": [
    "# models\n",
    "import xgboost as xgb\n"
   ]
  },
  {
   "cell_type": "code",
   "execution_count": 16,
   "id": "55f13145",
   "metadata": {},
   "outputs": [],
   "source": [
    "import tkinter as tk\n",
    "import customtkinter"
   ]
  },
  {
   "cell_type": "code",
   "execution_count": 19,
   "id": "7a2b2e45",
   "metadata": {},
   "outputs": [],
   "source": [
    "def mdl():\n",
    "    # read input data from entry fields\n",
    "    zip_code = int(entry_zip.get())\n",
    "    term = int(entry_term.get())\n",
    "    no_emp = int(entry_no_emp.get())\n",
    "    existing = int(entry_existing.get())\n",
    "    jobs_creating = float(entry_jobs_creating.get())\n",
    "    is_franchise = int(entry_franchise.get())\n",
    "    is_urban = int(entry_area.get())\n",
    "    revolving_line_of_credit = int(entry_rev_cred.get())\n",
    "    low_doc_status = int(entry_low_doc.get())\n",
    "    disbursement_gross = float(entry_gross_disburse.get())\n",
    "    gross_amount_approved = float(entry_gross_amnt_approved.get())\n",
    "    sba_approved_amount = float(entry_SBA_approved_amnt.get())\n",
    "    sector = int(entry_sector.get())\n",
    "    state_points = int(entry_state_points.get())\n",
    "\n",
    "    # load the data and preprocess it\n",
    "    data = pd.read_csv('/Users/brandonnavarrete/codeup-data-science/SBA-Loan-Approval/modeling_feats.csv', index_col= 0) # replace 'path/to/your/data.csv' with the actual path to your data file\n",
    "    X = data.drop(columns = ['target','retained_job','chg_off_prin_gr','balance_gross']) # replace 'target_variable' with the name of your target variable column\n",
    "    y = data['target']\n",
    "    \n",
    "  \n",
    "    # SPLIT\n",
    "    from sklearn.model_selection import train_test_split\n",
    "    X_train, X_test, y_train, y_test = train_test_split(X, y, test_size = 0.2, random_state = 42)\n",
    "    \n",
    "    # SCALE\n",
    "    # fit and transforming to train\n",
    "    from sklearn.preprocessing import StandardScaler\n",
    "    \n",
    "    scaler = StandardScaler()\n",
    "    \n",
    "    X_train_sc = scaler.fit_transform(X_train)\n",
    "    # transform to test\n",
    "    X_test_sc = scaler.transform(X_test)\n",
    "    \n",
    "    # Creating dataframe from scaled data\n",
    "    X_train_sc = pd.DataFrame(X_train_sc)\n",
    "    X_test_sc = pd.DataFrame(X_test_sc)\n",
    "    \n",
    "    \n",
    "    #TRAIN\n",
    "    # create an object instances\n",
    "    model = xgb.XGBClassifier()\n",
    "    # fit model X_train_scaled, and y train\n",
    "    xgb_model = model.fit(X_train_sc, y_train)\n",
    "    \n",
    "\n",
    "    \n",
    "    # create a prediction using the input data and the loaded model\n",
    "    X_customer = np.array([[zip_code, term, no_emp, existing, jobs_creating, is_franchise, is_urban, revolving_line_of_credit, low_doc_status, disbursement_gross, gross_amount_approved, sba_approved_amount, sector, state_points]]) # shape of input data depends on your model's requirements\n",
    "    X_customer_sc = scaler.transform(X_customer)\n",
    "    y_pred = xgb_model.predict(X_customer_sc)\n",
    "    \n",
    "    root = tk.Tk()\n",
    "    root.title(\"Loan Approval Prediction\")\n",
    "    root.geometry(\"400x200\")\n",
    "    \n",
    "    # create a frame for the output label\n",
    "    frame = customtkinter.CTkFrame(master=root)\n",
    "    frame.pack(fill=tk.BOTH, expand=True, padx=20, pady=20)\n",
    "\n",
    "    # create the output label and pack it into the frame\n",
    "    output_label = customtkinter.CTkLabel(master=frame, text=f\"Loan Approval Probability: {y_pred[0]:.2f}\")\n",
    "    output_label.pack(pady=12, padx=10)\n",
    "\n",
    "    # start the tkinter event loop\n",
    "    root.mainloop()\n"
   ]
  },
  {
   "cell_type": "code",
   "execution_count": 20,
   "id": "b740aadc",
   "metadata": {},
   "outputs": [],
   "source": [
    "# basic parameters\n",
    "customtkinter.set_appearance_mode('system')\n",
    "customtkinter.set_default_color_theme('dark-blue')\n",
    "\n",
    "# basic gui\n",
    "root = customtkinter.CTk()\n",
    "root.geometry(\"600x500\")\n",
    "\n",
    "# master frame \n",
    "    \n",
    "frame = customtkinter.CTkFrame(master=root)\n",
    "frame.pack(pady=20, padx=60, fill='both', expand=True)\n",
    "\n",
    "\n",
    "\n",
    "label = customtkinter.CTkLabel(master=frame, text='SBA Loan Approval')\n",
    "label.pack(pady=12, padx=10)\n",
    "\n",
    "entry_zip = customtkinter.CTkEntry(master=frame, placeholder_text='Zip Code')\n",
    "entry_zip.pack(pady=12, padx=10)\n",
    "\n",
    "entry_term = customtkinter.CTkEntry(master=frame, placeholder_text='Term')\n",
    "entry_term.pack(pady=12, padx=10)\n",
    "\n",
    "entry_no_emp = customtkinter.CTkEntry(master=frame, placeholder_text='Number of Employees')\n",
    "entry_no_emp.pack(pady=12, padx=10)\n",
    "\n",
    "entry_existing = customtkinter.CTkEntry(master=frame, placeholder_text='Existing or New')\n",
    "entry_existing.pack(pady=12, padx=10)\n",
    "\n",
    "entry_jobs_creating = customtkinter.CTkEntry(master=frame, placeholder_text='Number of Jobs Created')\n",
    "entry_jobs_creating.pack(pady=12, padx=10)\n",
    "\n",
    "entry_franchise = customtkinter.CTkEntry(master=frame, placeholder_text='Is Franchise?')\n",
    "entry_franchise.pack(pady=12, padx=10)\n",
    "\n",
    "entry_area = customtkinter.CTkEntry(master=frame, placeholder_text='Urban or Rural Area')\n",
    "entry_area.pack(pady=12, padx=10)\n",
    "\n",
    "entry_rev_cred = customtkinter.CTkEntry(master=frame, placeholder_text='Revolving Line of Credit')\n",
    "entry_rev_cred.pack(pady=12, padx=10)\n",
    "\n",
    "entry_low_doc = customtkinter.CTkEntry(master=frame, placeholder_text='Low Doc Status')\n",
    "entry_low_doc.pack(pady=12, padx=10)\n",
    "\n",
    "entry_gross_disburse = customtkinter.CTkEntry(master=frame, placeholder_text='Gross Disbursement')\n",
    "entry_gross_disburse.pack(pady=12, padx=10)\n",
    "\n",
    "entry_gross_amnt_approved = customtkinter.CTkEntry(master=frame, placeholder_text='Gross Amount Approved')\n",
    "entry_gross_amnt_approved.pack(pady=12, padx=10)\n",
    "\n",
    "entry_SBA_approved_amnt = customtkinter.CTkEntry(master=frame, placeholder_text='SBA approved amount')\n",
    "entry_SBA_approved_amnt.pack(pady=12, padx=10)\n",
    "\n",
    "entry_sector = customtkinter.CTkEntry(master=frame, placeholder_text='Job Sector')\n",
    "entry_sector.pack(pady=12, padx=10)\n",
    "\n",
    "entry_state_points = customtkinter.CTkEntry(master=frame, placeholder_text='State Points')\n",
    "entry_state_points.pack(pady=12, padx=10)\n",
    "\n",
    "button = customtkinter.CTkButton(master = frame, text = 'Submit Application', command = mdl)\n",
    "button.pack(pady = 12,padx =10)\n",
    "\n",
    "checkbox = customtkinter.CTkCheckBox(master = frame, text = 'Save Account Information')\n",
    "checkbox.pack(pady = 12,padx =10)\n",
    "\n",
    "\n",
    "root.mainloop()"
   ]
  },
  {
   "cell_type": "code",
   "execution_count": null,
   "id": "929f7cec",
   "metadata": {},
   "outputs": [],
   "source": []
  },
  {
   "cell_type": "code",
   "execution_count": null,
   "id": "a0f18c70",
   "metadata": {},
   "outputs": [],
   "source": []
  },
  {
   "cell_type": "code",
   "execution_count": null,
   "id": "69ddad6e",
   "metadata": {},
   "outputs": [],
   "source": []
  },
  {
   "cell_type": "code",
   "execution_count": null,
   "id": "8e1b25a3",
   "metadata": {},
   "outputs": [],
   "source": []
  }
 ],
 "metadata": {
  "kernelspec": {
   "display_name": "Python 3 (ipykernel)",
   "language": "python",
   "name": "python3"
  },
  "language_info": {
   "codemirror_mode": {
    "name": "ipython",
    "version": 3
   },
   "file_extension": ".py",
   "mimetype": "text/x-python",
   "name": "python",
   "nbconvert_exporter": "python",
   "pygments_lexer": "ipython3",
   "version": "3.9.13"
  }
 },
 "nbformat": 4,
 "nbformat_minor": 5
}
