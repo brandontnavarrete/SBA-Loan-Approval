{
 "cells": [
  {
   "cell_type": "markdown",
   "id": "908a6812",
   "metadata": {},
   "source": [
    "# import "
   ]
  },
  {
   "cell_type": "code",
   "execution_count": 1,
   "id": "48a53c86",
   "metadata": {},
   "outputs": [
    {
     "name": "stderr",
     "output_type": "stream",
     "text": [
      "/usr/local/anaconda3/lib/python3.9/site-packages/fuzzywuzzy/fuzz.py:11: UserWarning: Using slow pure-python SequenceMatcher. Install python-Levenshtein to remove this warning\n",
      "  warnings.warn('Using slow pure-python SequenceMatcher. Install python-Levenshtein to remove this warning')\n"
     ]
    }
   ],
   "source": [
    "import pandas as pd \n",
    "import numpy as np \n",
    "\n",
    "import seaborn as sns\n",
    "import matplotlib.pyplot as plt\n",
    "\n",
    "import uszipcode\n",
    "from uszipcode import SearchEngine\n",
    "\n",
    "import plotly as plty\n"
   ]
  },
  {
   "cell_type": "markdown",
   "id": "fe5da174",
   "metadata": {},
   "source": [
    "# data"
   ]
  },
  {
   "cell_type": "markdown",
   "id": "2d2bd5a1",
   "metadata": {},
   "source": [
    "Variable Name\t    Description\n",
    "\n",
    "LoanNr_ChkDgt\t    Identifier Primary key\n",
    "\n",
    "Name\t            Borrower name\n",
    "\n",
    "City\t            Borrower city\n",
    "\n",
    "State\t            Borrower state\n",
    "\n",
    "Zip\t                Borrower zip code\n",
    "\n",
    "Bank\t            Bank name\n",
    "\n",
    "BankState\t        Bank state\n",
    "\n",
    "NAICS\t            North American industry classification system code\n",
    "\n",
    "ApprovalDate\t    Date SBA commitment issued\n",
    "\n",
    "ApprovalFY\t        Fiscal year of commitment\n",
    "\n",
    "Term\t            Loan term in months\n",
    "\n",
    "NoEmp\t            Number of business employees\n",
    "\n",
    "NewExist\t        1 = Existing business, 2 = New business\n",
    "\n",
    "CreateJob\t        Number of jobs created\n",
    "\n",
    "RetainedJob\t        Number of jobs retained\n",
    "\n",
    "FranchiseCode\t    Franchise code, (00000 or 00001) = No franchise\n",
    "\n",
    "UrbanRural\t        1 = Urban, 2 = rural, 0 = undefined\n",
    "\n",
    "RevLineCr\t        Revolving line of credit: Y = Yes, N = No\n",
    "    \n",
    "LowDoc\t            LowDoc Loan Program: Y = Yes, N = No\n",
    "    \n",
    "ChgOffDate\t        The date when a loan is declared to be in default\n",
    "\n",
    "DisbursementDate\tDisbursement date\n",
    "\n",
    "DisbursementGross\tAmount disbursed\n",
    "\n",
    "BalanceGross\t    Gross amount outstanding\n",
    "\n",
    "MIS_Status\t        Loan status charged off = CHGOFF, Paid in full =PIF\n",
    "\n",
    "ChgOffPrinGr\t    Charged-off amount\n",
    "\n",
    "GrAppv\t            Gross amount of loan approved by bank\n",
    "\n",
    "SBA_Appv\t        SBA’s guaranteed amount of approved loan"
   ]
  },
  {
   "cell_type": "code",
   "execution_count": 2,
   "id": "6dda9384",
   "metadata": {},
   "outputs": [
    {
     "name": "stderr",
     "output_type": "stream",
     "text": [
      "/var/folders/d0/5dr5q0n145vcn3_m9dxy1xq80000gn/T/ipykernel_49678/711269991.py:1: DtypeWarning: Columns (8) have mixed types. Specify dtype option on import or set low_memory=False.\n",
      "  df = pd.read_csv('explore.csv',index_col= 0 )\n"
     ]
    }
   ],
   "source": [
    "df = pd.read_csv('explore.csv',index_col= 0 )"
   ]
  },
  {
   "cell_type": "code",
   "execution_count": 3,
   "id": "462702b6",
   "metadata": {},
   "outputs": [],
   "source": [
    "def camel_to_snake(column_name):\n",
    "    \"\"\"Converts a camel case string to snake case\"\"\"\n",
    "    snake_name = ''\n",
    "    for i, char in enumerate(column_name):\n",
    "        if i == 0:\n",
    "            snake_name += char.lower()\n",
    "        elif char.isupper():\n",
    "            snake_name += '_' + char.lower()\n",
    "        else:\n",
    "            snake_name += char\n",
    "    return snake_name"
   ]
  },
  {
   "cell_type": "code",
   "execution_count": 4,
   "id": "6048f769",
   "metadata": {},
   "outputs": [],
   "source": [
    "df = df[(df['LowDoc'] == 'N') | (df['LowDoc'] == 'Y')]"
   ]
  },
  {
   "cell_type": "code",
   "execution_count": 5,
   "id": "754552bc",
   "metadata": {},
   "outputs": [],
   "source": [
    "df = df[(df['RevLineCr'] == 'N') | (df['RevLineCr'] == 'Y')]\n"
   ]
  },
  {
   "cell_type": "code",
   "execution_count": 6,
   "id": "df557da1",
   "metadata": {},
   "outputs": [],
   "source": [
    "\n",
    "snake_case_columns = [camel_to_snake(col) for col in df]"
   ]
  },
  {
   "cell_type": "code",
   "execution_count": 7,
   "id": "5134448c",
   "metadata": {},
   "outputs": [
    {
     "data": {
      "text/plain": [
       "['city',\n",
       " 'state',\n",
       " 'zip',\n",
       " 'bank',\n",
       " 'bank_state',\n",
       " 'n_a_i_c_s',\n",
       " 'approval_date',\n",
       " 'approval_f_y',\n",
       " 'term',\n",
       " 'no_emp',\n",
       " 'new_exist',\n",
       " 'create_job',\n",
       " 'retained_job',\n",
       " 'franchise_code',\n",
       " 'urban_rural',\n",
       " 'rev_line_cr',\n",
       " 'low_doc',\n",
       " 'chg_off_date',\n",
       " 'disbursement_date',\n",
       " 'disbursement_gross',\n",
       " 'balance_gross',\n",
       " 'm_i_s__status',\n",
       " 'chg_off_prin_gr',\n",
       " 'gr_appv',\n",
       " 's_b_a__appv']"
      ]
     },
     "execution_count": 7,
     "metadata": {},
     "output_type": "execute_result"
    }
   ],
   "source": [
    "snake_case_columns"
   ]
  },
  {
   "cell_type": "code",
   "execution_count": 8,
   "id": "8877e128",
   "metadata": {},
   "outputs": [],
   "source": [
    "# lis = df.columns.tolist()"
   ]
  },
  {
   "cell_type": "code",
   "execution_count": 9,
   "id": "28fe1aa5",
   "metadata": {},
   "outputs": [],
   "source": [
    "# lis = [x.lower() for x in lis]"
   ]
  },
  {
   "cell_type": "code",
   "execution_count": 10,
   "id": "a21bb908",
   "metadata": {},
   "outputs": [],
   "source": [
    "df.columns = snake_case_columns"
   ]
  },
  {
   "cell_type": "code",
   "execution_count": 11,
   "id": "dacefda0",
   "metadata": {},
   "outputs": [],
   "source": [
    "df = df.drop(columns = ['approval_date','chg_off_date','disbursement_date'])"
   ]
  },
  {
   "cell_type": "markdown",
   "id": "07be04af",
   "metadata": {},
   "source": [
    "# Explore"
   ]
  },
  {
   "cell_type": "code",
   "execution_count": 12,
   "id": "5d673fc4",
   "metadata": {},
   "outputs": [],
   "source": [
    "df=df.rename(columns = {'m_i_s__status':'target'})"
   ]
  },
  {
   "cell_type": "code",
   "execution_count": 13,
   "id": "1c75afca",
   "metadata": {},
   "outputs": [],
   "source": [
    "state_point = df.groupby('state')['target'].value_counts(normalize=True).unstack()['P I F'].sort_values(ascending = False)"
   ]
  },
  {
   "cell_type": "code",
   "execution_count": 14,
   "id": "c87dd7a6",
   "metadata": {},
   "outputs": [],
   "source": [
    "#Next, we will give points to each State.\n",
    "#I indicated only the highest and the lowest default rates in the library and assigned def rate = 18 (mean) to the states left\n",
    "#Function for the state scores \n",
    "def apply_score_state(i):\n",
    "    state_default = {'MT':8, 'ND': 8, 'WY':8, 'SD':8, 'VT':8, 'ME':10,'NH':10, 'NM':10, 'AK':10, 'WA':13,'AD':13, 'MN':13, \n",
    "                     'WI':13, 'IA':13,'NE':13, 'KS':13, 'MA':13,'CT':13,'RI':13,'PA':13, 'NV':23, 'IL':23, 'MI':23, 'KY':23,\n",
    "                     'GA':23, 'FL':28}\n",
    "    temp_defrate = None\n",
    "    average_def_rate = 18\n",
    "    if i in state_default:\n",
    "        temp_defrate = state_default[i]\n",
    "        return point_def(temp_defrate)\n",
    "    return point_def(average_def_rate)"
   ]
  },
  {
   "cell_type": "code",
   "execution_count": 15,
   "id": "a5b8589b",
   "metadata": {},
   "outputs": [],
   "source": [
    "state_point= pd.DataFrame(state_point)"
   ]
  },
  {
   "cell_type": "code",
   "execution_count": null,
   "id": "25c33c0f",
   "metadata": {},
   "outputs": [],
   "source": []
  },
  {
   "cell_type": "code",
   "execution_count": 16,
   "id": "be7b5d60",
   "metadata": {},
   "outputs": [
    {
     "data": {
      "text/plain": [
       "state\n",
       "WY    0.936263\n",
       "MT    0.935853\n",
       "SD    0.933747\n",
       "ND    0.926569\n",
       "VT    0.925134\n",
       "NE    0.904406\n",
       "IA    0.903988\n",
       "ME    0.903883\n",
       "NM    0.892337\n",
       "NH    0.887821\n",
       "WI    0.885518\n",
       "MN    0.883001\n",
       "AK    0.882589\n",
       "KS    0.878299\n",
       "RI    0.870612\n",
       "MS    0.864039\n",
       "MA    0.862716\n",
       "WV    0.858199\n",
       "ID    0.856559\n",
       "HI    0.856524\n",
       "WA    0.855686\n",
       "CT    0.855534\n",
       "OK    0.855532\n",
       "MO    0.854045\n",
       "AL    0.850792\n",
       "AR    0.850307\n",
       "PA    0.847878\n",
       "OR    0.840195\n",
       "LA    0.839994\n",
       "NC    0.832664\n",
       "OH    0.829919\n",
       "IN    0.826017\n",
       "VA    0.825343\n",
       "TN    0.822676\n",
       "DE    0.820996\n",
       "DC    0.820697\n",
       "MD    0.817090\n",
       "TX    0.816902\n",
       "KY    0.814064\n",
       "CO    0.809144\n",
       "SC    0.806214\n",
       "UT    0.805315\n",
       "NY    0.789800\n",
       "CA    0.784573\n",
       "MI    0.760264\n",
       "GA    0.759587\n",
       "IL    0.759055\n",
       "NV    0.751220\n",
       "NJ    0.750871\n",
       "AZ    0.730524\n",
       "FL    0.712206\n",
       "Name: P I F, dtype: float64"
      ]
     },
     "execution_count": 16,
     "metadata": {},
     "output_type": "execute_result"
    }
   ],
   "source": [
    "state_point['P I F']"
   ]
  },
  {
   "cell_type": "code",
   "execution_count": 17,
   "id": "5681dc1b",
   "metadata": {},
   "outputs": [],
   "source": [
    "state_score = {}\n",
    "for i in range(0,len(state_point)):\n",
    "    \n",
    "    if state_point.iloc[i][0] > .90:\n",
    "        \n",
    "        dict1 = {f'{state_point.iloc[i].name}': 1}\n",
    "        \n",
    "        state_score.update(dict1)\n",
    "    \n",
    "    elif state_point.iloc[i][0] > .86:\n",
    "        \n",
    "        dict1 = {f'{state_point.iloc[i].name}': 2}\n",
    "        \n",
    "        state_score.update(dict1)\n",
    "    \n",
    "    elif state_point.iloc[i][0] > .76:\n",
    "        \n",
    "        dict1 = {f'{state_point.iloc[i].name}': 3}\n",
    "        \n",
    "        state_score.update(dict1)\n",
    "    \n",
    "    else:\n",
    "        \n",
    "        dict1 = {f'{state_point.iloc[i].name}': 4}\n",
    "        \n",
    "        state_score.update(dict1)\n",
    "        \n",
    "\n",
    "        # state_score.update(f'state_point.iloc[i].name', '90')\n",
    "        \n",
    "    \n",
    "    \n",
    "    \n",
    " "
   ]
  },
  {
   "cell_type": "code",
   "execution_count": 18,
   "id": "302e5b5d",
   "metadata": {},
   "outputs": [
    {
     "data": {
      "text/plain": [
       "{'WY': 1,\n",
       " 'MT': 1,\n",
       " 'SD': 1,\n",
       " 'ND': 1,\n",
       " 'VT': 1,\n",
       " 'NE': 1,\n",
       " 'IA': 1,\n",
       " 'ME': 1,\n",
       " 'NM': 2,\n",
       " 'NH': 2,\n",
       " 'WI': 2,\n",
       " 'MN': 2,\n",
       " 'AK': 2,\n",
       " 'KS': 2,\n",
       " 'RI': 2,\n",
       " 'MS': 2,\n",
       " 'MA': 2,\n",
       " 'WV': 3,\n",
       " 'ID': 3,\n",
       " 'HI': 3,\n",
       " 'WA': 3,\n",
       " 'CT': 3,\n",
       " 'OK': 3,\n",
       " 'MO': 3,\n",
       " 'AL': 3,\n",
       " 'AR': 3,\n",
       " 'PA': 3,\n",
       " 'OR': 3,\n",
       " 'LA': 3,\n",
       " 'NC': 3,\n",
       " 'OH': 3,\n",
       " 'IN': 3,\n",
       " 'VA': 3,\n",
       " 'TN': 3,\n",
       " 'DE': 3,\n",
       " 'DC': 3,\n",
       " 'MD': 3,\n",
       " 'TX': 3,\n",
       " 'KY': 3,\n",
       " 'CO': 3,\n",
       " 'SC': 3,\n",
       " 'UT': 3,\n",
       " 'NY': 3,\n",
       " 'CA': 3,\n",
       " 'MI': 3,\n",
       " 'GA': 4,\n",
       " 'IL': 4,\n",
       " 'NV': 4,\n",
       " 'NJ': 4,\n",
       " 'AZ': 4,\n",
       " 'FL': 4}"
      ]
     },
     "execution_count": 18,
     "metadata": {},
     "output_type": "execute_result"
    }
   ],
   "source": [
    "state_score"
   ]
  },
  {
   "cell_type": "code",
   "execution_count": 19,
   "id": "91c674dd",
   "metadata": {},
   "outputs": [
    {
     "data": {
      "text/plain": [
       "True"
      ]
     },
     "execution_count": 19,
     "metadata": {},
     "output_type": "execute_result"
    }
   ],
   "source": [
    "df.state[1] in state_score"
   ]
  },
  {
   "cell_type": "code",
   "execution_count": 20,
   "id": "f9f33e7a",
   "metadata": {},
   "outputs": [
    {
     "data": {
      "text/plain": [
       "4"
      ]
     },
     "execution_count": 20,
     "metadata": {},
     "output_type": "execute_result"
    }
   ],
   "source": [
    "state_score['GA']"
   ]
  },
  {
   "cell_type": "code",
   "execution_count": 21,
   "id": "26417ae1",
   "metadata": {},
   "outputs": [],
   "source": [
    "def apply_score(state):\n",
    "    \n",
    "    if state in state_score:\n",
    "        return(state_score[state])\n",
    "    \n",
    "    \n",
    "        \n",
    "        "
   ]
  },
  {
   "cell_type": "code",
   "execution_count": 22,
   "id": "f65a7780",
   "metadata": {},
   "outputs": [],
   "source": [
    "# create a new column called 'n_a_i_c_s_first_two'\n",
    "df['sec_points'] = df['n_a_i_c_s'].apply(lambda x: int(str(x)[:2]))"
   ]
  },
  {
   "cell_type": "code",
   "execution_count": 23,
   "id": "35f73d79",
   "metadata": {},
   "outputs": [],
   "source": [
    "df['state_score'] = df.state.apply(apply_score)"
   ]
  },
  {
   "cell_type": "code",
   "execution_count": 24,
   "id": "c0b4e357",
   "metadata": {},
   "outputs": [],
   "source": [
    "# drop columns / city : to many vars, state: replaced by state score.\n",
    "df.drop(columns = ['city','state','bank_state','approval_f_y','bank','n_a_i_c_s'], inplace=True)"
   ]
  },
  {
   "cell_type": "code",
   "execution_count": 25,
   "id": "a46d1f5c",
   "metadata": {},
   "outputs": [],
   "source": [
    "df['target'] = df['target'].replace({'P I F': 0, 'CHGOFF': 1})"
   ]
  },
  {
   "cell_type": "code",
   "execution_count": 26,
   "id": "0802b712",
   "metadata": {},
   "outputs": [],
   "source": [
    "df['rev_line_cr'] = df['rev_line_cr'].replace({'N': 0, 'Y': 1})"
   ]
  },
  {
   "cell_type": "code",
   "execution_count": 27,
   "id": "e993ad46",
   "metadata": {},
   "outputs": [
    {
     "data": {
      "text/plain": [
       "N    553968\n",
       "Y     57187\n",
       "Name: low_doc, dtype: int64"
      ]
     },
     "execution_count": 27,
     "metadata": {},
     "output_type": "execute_result"
    }
   ],
   "source": [
    "df.low_doc.value_counts()"
   ]
  },
  {
   "cell_type": "code",
   "execution_count": 28,
   "id": "3928d4f3",
   "metadata": {},
   "outputs": [],
   "source": [
    "df['low_doc'] = df['low_doc'].replace({'N': 0, 'Y': 1})"
   ]
  },
  {
   "cell_type": "code",
   "execution_count": 29,
   "id": "1a41caf1",
   "metadata": {},
   "outputs": [
    {
     "data": {
      "text/html": [
       "<div>\n",
       "<style scoped>\n",
       "    .dataframe tbody tr th:only-of-type {\n",
       "        vertical-align: middle;\n",
       "    }\n",
       "\n",
       "    .dataframe tbody tr th {\n",
       "        vertical-align: top;\n",
       "    }\n",
       "\n",
       "    .dataframe thead th {\n",
       "        text-align: right;\n",
       "    }\n",
       "</style>\n",
       "<table border=\"1\" class=\"dataframe\">\n",
       "  <thead>\n",
       "    <tr style=\"text-align: right;\">\n",
       "      <th></th>\n",
       "      <th>zip</th>\n",
       "      <th>term</th>\n",
       "      <th>no_emp</th>\n",
       "      <th>new_exist</th>\n",
       "      <th>create_job</th>\n",
       "      <th>retained_job</th>\n",
       "      <th>franchise_code</th>\n",
       "      <th>urban_rural</th>\n",
       "      <th>rev_line_cr</th>\n",
       "      <th>low_doc</th>\n",
       "      <th>disbursement_gross</th>\n",
       "      <th>balance_gross</th>\n",
       "      <th>chg_off_prin_gr</th>\n",
       "      <th>gr_appv</th>\n",
       "      <th>s_b_a__appv</th>\n",
       "      <th>sec_points</th>\n",
       "      <th>state_score</th>\n",
       "      <th>target</th>\n",
       "    </tr>\n",
       "  </thead>\n",
       "  <tbody>\n",
       "    <tr>\n",
       "      <th>0</th>\n",
       "      <td>47711</td>\n",
       "      <td>84</td>\n",
       "      <td>4</td>\n",
       "      <td>2</td>\n",
       "      <td>0</td>\n",
       "      <td>0</td>\n",
       "      <td>1</td>\n",
       "      <td>0</td>\n",
       "      <td>0</td>\n",
       "      <td>1</td>\n",
       "      <td>60000</td>\n",
       "      <td>0</td>\n",
       "      <td>0</td>\n",
       "      <td>60000</td>\n",
       "      <td>48000</td>\n",
       "      <td>45</td>\n",
       "      <td>3</td>\n",
       "      <td>0</td>\n",
       "    </tr>\n",
       "    <tr>\n",
       "      <th>1</th>\n",
       "      <td>46526</td>\n",
       "      <td>60</td>\n",
       "      <td>2</td>\n",
       "      <td>2</td>\n",
       "      <td>0</td>\n",
       "      <td>0</td>\n",
       "      <td>1</td>\n",
       "      <td>0</td>\n",
       "      <td>0</td>\n",
       "      <td>1</td>\n",
       "      <td>40000</td>\n",
       "      <td>0</td>\n",
       "      <td>0</td>\n",
       "      <td>40000</td>\n",
       "      <td>32000</td>\n",
       "      <td>72</td>\n",
       "      <td>3</td>\n",
       "      <td>0</td>\n",
       "    </tr>\n",
       "    <tr>\n",
       "      <th>2</th>\n",
       "      <td>47401</td>\n",
       "      <td>180</td>\n",
       "      <td>7</td>\n",
       "      <td>1</td>\n",
       "      <td>0</td>\n",
       "      <td>0</td>\n",
       "      <td>1</td>\n",
       "      <td>0</td>\n",
       "      <td>0</td>\n",
       "      <td>0</td>\n",
       "      <td>287000</td>\n",
       "      <td>0</td>\n",
       "      <td>0</td>\n",
       "      <td>287000</td>\n",
       "      <td>215250</td>\n",
       "      <td>62</td>\n",
       "      <td>3</td>\n",
       "      <td>0</td>\n",
       "    </tr>\n",
       "    <tr>\n",
       "      <th>3</th>\n",
       "      <td>74012</td>\n",
       "      <td>60</td>\n",
       "      <td>2</td>\n",
       "      <td>1</td>\n",
       "      <td>0</td>\n",
       "      <td>0</td>\n",
       "      <td>1</td>\n",
       "      <td>0</td>\n",
       "      <td>0</td>\n",
       "      <td>1</td>\n",
       "      <td>35000</td>\n",
       "      <td>0</td>\n",
       "      <td>0</td>\n",
       "      <td>35000</td>\n",
       "      <td>28000</td>\n",
       "      <td>0</td>\n",
       "      <td>3</td>\n",
       "      <td>0</td>\n",
       "    </tr>\n",
       "    <tr>\n",
       "      <th>4</th>\n",
       "      <td>32801</td>\n",
       "      <td>240</td>\n",
       "      <td>14</td>\n",
       "      <td>1</td>\n",
       "      <td>7</td>\n",
       "      <td>7</td>\n",
       "      <td>1</td>\n",
       "      <td>0</td>\n",
       "      <td>0</td>\n",
       "      <td>0</td>\n",
       "      <td>229000</td>\n",
       "      <td>0</td>\n",
       "      <td>0</td>\n",
       "      <td>229000</td>\n",
       "      <td>229000</td>\n",
       "      <td>0</td>\n",
       "      <td>4</td>\n",
       "      <td>0</td>\n",
       "    </tr>\n",
       "    <tr>\n",
       "      <th>...</th>\n",
       "      <td>...</td>\n",
       "      <td>...</td>\n",
       "      <td>...</td>\n",
       "      <td>...</td>\n",
       "      <td>...</td>\n",
       "      <td>...</td>\n",
       "      <td>...</td>\n",
       "      <td>...</td>\n",
       "      <td>...</td>\n",
       "      <td>...</td>\n",
       "      <td>...</td>\n",
       "      <td>...</td>\n",
       "      <td>...</td>\n",
       "      <td>...</td>\n",
       "      <td>...</td>\n",
       "      <td>...</td>\n",
       "      <td>...</td>\n",
       "      <td>...</td>\n",
       "    </tr>\n",
       "    <tr>\n",
       "      <th>899158</th>\n",
       "      <td>75062</td>\n",
       "      <td>84</td>\n",
       "      <td>5</td>\n",
       "      <td>2</td>\n",
       "      <td>0</td>\n",
       "      <td>0</td>\n",
       "      <td>1</td>\n",
       "      <td>0</td>\n",
       "      <td>0</td>\n",
       "      <td>1</td>\n",
       "      <td>79000</td>\n",
       "      <td>0</td>\n",
       "      <td>0</td>\n",
       "      <td>79000</td>\n",
       "      <td>63200</td>\n",
       "      <td>0</td>\n",
       "      <td>3</td>\n",
       "      <td>0</td>\n",
       "    </tr>\n",
       "    <tr>\n",
       "      <th>899160</th>\n",
       "      <td>43221</td>\n",
       "      <td>60</td>\n",
       "      <td>6</td>\n",
       "      <td>1</td>\n",
       "      <td>0</td>\n",
       "      <td>0</td>\n",
       "      <td>1</td>\n",
       "      <td>0</td>\n",
       "      <td>1</td>\n",
       "      <td>0</td>\n",
       "      <td>85000</td>\n",
       "      <td>0</td>\n",
       "      <td>0</td>\n",
       "      <td>85000</td>\n",
       "      <td>42500</td>\n",
       "      <td>45</td>\n",
       "      <td>3</td>\n",
       "      <td>0</td>\n",
       "    </tr>\n",
       "    <tr>\n",
       "      <th>899161</th>\n",
       "      <td>93455</td>\n",
       "      <td>108</td>\n",
       "      <td>26</td>\n",
       "      <td>1</td>\n",
       "      <td>0</td>\n",
       "      <td>0</td>\n",
       "      <td>1</td>\n",
       "      <td>0</td>\n",
       "      <td>0</td>\n",
       "      <td>0</td>\n",
       "      <td>300000</td>\n",
       "      <td>0</td>\n",
       "      <td>0</td>\n",
       "      <td>300000</td>\n",
       "      <td>225000</td>\n",
       "      <td>33</td>\n",
       "      <td>3</td>\n",
       "      <td>0</td>\n",
       "    </tr>\n",
       "    <tr>\n",
       "      <th>899162</th>\n",
       "      <td>96830</td>\n",
       "      <td>60</td>\n",
       "      <td>6</td>\n",
       "      <td>1</td>\n",
       "      <td>0</td>\n",
       "      <td>0</td>\n",
       "      <td>1</td>\n",
       "      <td>0</td>\n",
       "      <td>0</td>\n",
       "      <td>1</td>\n",
       "      <td>75000</td>\n",
       "      <td>0</td>\n",
       "      <td>46383</td>\n",
       "      <td>75000</td>\n",
       "      <td>60000</td>\n",
       "      <td>0</td>\n",
       "      <td>3</td>\n",
       "      <td>1</td>\n",
       "    </tr>\n",
       "    <tr>\n",
       "      <th>899163</th>\n",
       "      <td>96734</td>\n",
       "      <td>48</td>\n",
       "      <td>1</td>\n",
       "      <td>2</td>\n",
       "      <td>0</td>\n",
       "      <td>0</td>\n",
       "      <td>1</td>\n",
       "      <td>0</td>\n",
       "      <td>0</td>\n",
       "      <td>0</td>\n",
       "      <td>30000</td>\n",
       "      <td>0</td>\n",
       "      <td>0</td>\n",
       "      <td>30000</td>\n",
       "      <td>24000</td>\n",
       "      <td>0</td>\n",
       "      <td>3</td>\n",
       "      <td>0</td>\n",
       "    </tr>\n",
       "  </tbody>\n",
       "</table>\n",
       "<p>611155 rows × 18 columns</p>\n",
       "</div>"
      ],
      "text/plain": [
       "          zip  term  no_emp  new_exist  create_job  retained_job  \\\n",
       "0       47711    84       4          2           0             0   \n",
       "1       46526    60       2          2           0             0   \n",
       "2       47401   180       7          1           0             0   \n",
       "3       74012    60       2          1           0             0   \n",
       "4       32801   240      14          1           7             7   \n",
       "...       ...   ...     ...        ...         ...           ...   \n",
       "899158  75062    84       5          2           0             0   \n",
       "899160  43221    60       6          1           0             0   \n",
       "899161  93455   108      26          1           0             0   \n",
       "899162  96830    60       6          1           0             0   \n",
       "899163  96734    48       1          2           0             0   \n",
       "\n",
       "        franchise_code  urban_rural  rev_line_cr  low_doc  disbursement_gross  \\\n",
       "0                    1            0            0        1               60000   \n",
       "1                    1            0            0        1               40000   \n",
       "2                    1            0            0        0              287000   \n",
       "3                    1            0            0        1               35000   \n",
       "4                    1            0            0        0              229000   \n",
       "...                ...          ...          ...      ...                 ...   \n",
       "899158               1            0            0        1               79000   \n",
       "899160               1            0            1        0               85000   \n",
       "899161               1            0            0        0              300000   \n",
       "899162               1            0            0        1               75000   \n",
       "899163               1            0            0        0               30000   \n",
       "\n",
       "        balance_gross  chg_off_prin_gr  gr_appv  s_b_a__appv  sec_points  \\\n",
       "0                   0                0    60000        48000          45   \n",
       "1                   0                0    40000        32000          72   \n",
       "2                   0                0   287000       215250          62   \n",
       "3                   0                0    35000        28000           0   \n",
       "4                   0                0   229000       229000           0   \n",
       "...               ...              ...      ...          ...         ...   \n",
       "899158              0                0    79000        63200           0   \n",
       "899160              0                0    85000        42500          45   \n",
       "899161              0                0   300000       225000          33   \n",
       "899162              0            46383    75000        60000           0   \n",
       "899163              0                0    30000        24000           0   \n",
       "\n",
       "        state_score  target  \n",
       "0                 3       0  \n",
       "1                 3       0  \n",
       "2                 3       0  \n",
       "3                 3       0  \n",
       "4                 4       0  \n",
       "...             ...     ...  \n",
       "899158            3       0  \n",
       "899160            3       0  \n",
       "899161            3       0  \n",
       "899162            3       1  \n",
       "899163            3       0  \n",
       "\n",
       "[611155 rows x 18 columns]"
      ]
     },
     "execution_count": 29,
     "metadata": {},
     "output_type": "execute_result"
    }
   ],
   "source": [
    "df[['zip',\n",
    " 'term',\n",
    " 'no_emp',\n",
    " 'new_exist',\n",
    " 'create_job',\n",
    " 'retained_job',\n",
    " 'franchise_code',\n",
    " 'urban_rural',\n",
    " 'rev_line_cr',\n",
    " 'low_doc',\n",
    " 'disbursement_gross',\n",
    " 'balance_gross',\n",
    " 'chg_off_prin_gr',\n",
    " 'gr_appv',\n",
    " 's_b_a__appv',\n",
    " 'sec_points',\n",
    " 'state_score',\n",
    " 'target']]"
   ]
  },
  {
   "cell_type": "code",
   "execution_count": 30,
   "id": "d95226d4",
   "metadata": {},
   "outputs": [],
   "source": [
    "df.to_csv('modeling_feats.csv')"
   ]
  }
 ],
 "metadata": {
  "kernelspec": {
   "display_name": "Python 3 (ipykernel)",
   "language": "python",
   "name": "python3"
  },
  "language_info": {
   "codemirror_mode": {
    "name": "ipython",
    "version": 3
   },
   "file_extension": ".py",
   "mimetype": "text/x-python",
   "name": "python",
   "nbconvert_exporter": "python",
   "pygments_lexer": "ipython3",
   "version": "3.9.13"
  }
 },
 "nbformat": 4,
 "nbformat_minor": 5
}
