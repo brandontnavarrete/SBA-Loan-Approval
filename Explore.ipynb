{
 "cells": [
  {
   "cell_type": "markdown",
   "id": "17edc032",
   "metadata": {},
   "source": [
    "# import "
   ]
  },
  {
   "cell_type": "code",
   "execution_count": 6,
   "id": "691cdd0e",
   "metadata": {},
   "outputs": [],
   "source": [
    "import pandas as pd \n",
    "import numpy as np \n",
    "\n",
    "import seaborn as sns\n",
    "import matplotlib.pyplot as plt\n",
    "\n",
    "import plotly as plty\n"
   ]
  },
  {
   "cell_type": "markdown",
   "id": "bfdf8130",
   "metadata": {},
   "source": [
    "# data"
   ]
  },
  {
   "cell_type": "code",
   "execution_count": null,
   "id": "7457bb55",
   "metadata": {},
   "outputs": [],
   "source": [
    "Variable Name\t    Description\n",
    "LoanNr_ChkDgt\t    Identifier Primary key\n",
    "Name\t            Borrower name\n",
    "City\t            Borrower city\n",
    "State\t            Borrower state\n",
    "Zip\t                Borrower zip code\n",
    "Bank\t            Bank name\n",
    "BankState\t        Bank state\n",
    "NAICS\t            North American industry classification system code\n",
    "ApprovalDate\t    Date SBA commitment issued\n",
    "ApprovalFY\t        Fiscal year of commitment\n",
    "Term\t            Loan term in months\n",
    "NoEmp\t            Number of business employees\n",
    "NewExist\t        1 = Existing business, 2 = New business\n",
    "CreateJob\t        Number of jobs created\n",
    "RetainedJob\t        Number of jobs retained\n",
    "FranchiseCode\t    Franchise code, (00000 or 00001) = No franchise\n",
    "UrbanRural\t        1 = Urban, 2 = rural, 0 = undefined\n",
    "RevLineCr\t        Revolving line of credit: Y = Yes, N = No\n",
    "LowDoc\t            LowDoc Loan Program: Y = Yes, N = No\n",
    "ChgOffDate\t        The date when a loan is declared to be in default\n",
    "DisbursementDate\tDisbursement date\n",
    "DisbursementGross\tAmount disbursed\n",
    "BalanceGross\t    Gross amount outstanding\n",
    "MIS_Status\t        Loan status charged off = CHGOFF, Paid in full =PIF\n",
    "ChgOffPrinGr\t    Charged-off amount\n",
    "GrAppv\t            Gross amount of loan approved by bank\n",
    "SBA_Appv\t        SBA’s guaranteed amount of approved loan"
   ]
  },
  {
   "cell_type": "code",
   "execution_count": 36,
   "id": "560a0e54",
   "metadata": {},
   "outputs": [
    {
     "name": "stderr",
     "output_type": "stream",
     "text": [
      "/var/folders/d0/5dr5q0n145vcn3_m9dxy1xq80000gn/T/ipykernel_40741/711269991.py:1: DtypeWarning: Columns (8) have mixed types. Specify dtype option on import or set low_memory=False.\n",
      "  df = pd.read_csv('explore.csv',index_col= 0 )\n"
     ]
    }
   ],
   "source": [
    "df = pd.read_csv('explore.csv',index_col= 0 )"
   ]
  },
  {
   "cell_type": "code",
   "execution_count": 40,
   "id": "b6713186",
   "metadata": {},
   "outputs": [],
   "source": [
    "def camel_to_snake(column_name):\n",
    "    \"\"\"Converts a camel case string to snake case\"\"\"\n",
    "    snake_name = ''\n",
    "    for i, char in enumerate(column_name):\n",
    "        if i == 0:\n",
    "            snake_name += char.lower()\n",
    "        elif char.isupper():\n",
    "            snake_name += '_' + char.lower()\n",
    "        else:\n",
    "            snake_name += char\n",
    "    return snake_name"
   ]
  },
  {
   "cell_type": "code",
   "execution_count": 41,
   "id": "599a1040",
   "metadata": {},
   "outputs": [],
   "source": [
    "snake_case_columns = [camel_to_snake(col) for col in df]"
   ]
  },
  {
   "cell_type": "code",
   "execution_count": 42,
   "id": "9bbd32f7",
   "metadata": {},
   "outputs": [
    {
     "data": {
      "text/plain": [
       "['city',\n",
       " 'state',\n",
       " 'zip',\n",
       " 'bank',\n",
       " 'bank_state',\n",
       " 'n_a_i_c_s',\n",
       " 'approval_date',\n",
       " 'approval_f_y',\n",
       " 'term',\n",
       " 'no_emp',\n",
       " 'new_exist',\n",
       " 'create_job',\n",
       " 'retained_job',\n",
       " 'franchise_code',\n",
       " 'urban_rural',\n",
       " 'rev_line_cr',\n",
       " 'low_doc',\n",
       " 'chg_off_date',\n",
       " 'disbursement_date',\n",
       " 'disbursement_gross',\n",
       " 'balance_gross',\n",
       " 'm_i_s__status',\n",
       " 'chg_off_prin_gr',\n",
       " 'gr_appv',\n",
       " 's_b_a__appv']"
      ]
     },
     "execution_count": 42,
     "metadata": {},
     "output_type": "execute_result"
    }
   ],
   "source": [
    "snake_case_columns"
   ]
  },
  {
   "cell_type": "code",
   "execution_count": 30,
   "id": "5ba3de6c",
   "metadata": {},
   "outputs": [],
   "source": [
    "# lis = df.columns.tolist()"
   ]
  },
  {
   "cell_type": "code",
   "execution_count": 31,
   "id": "9d5bfa19",
   "metadata": {},
   "outputs": [],
   "source": [
    "# lis = [x.lower() for x in lis]"
   ]
  },
  {
   "cell_type": "code",
   "execution_count": 43,
   "id": "0a7beb33",
   "metadata": {},
   "outputs": [],
   "source": [
    "df.columns = snake_case_columns"
   ]
  },
  {
   "cell_type": "code",
   "execution_count": 156,
   "id": "f188c0c0",
   "metadata": {},
   "outputs": [],
   "source": [
    "df = df.drop(columns = ['approval_date','chg_off_date','disbursement_date'])"
   ]
  },
  {
   "cell_type": "markdown",
   "id": "d9033432",
   "metadata": {},
   "source": [
    "# Explore"
   ]
  },
  {
   "cell_type": "code",
   "execution_count": 201,
   "id": "d3267ce8",
   "metadata": {},
   "outputs": [],
   "source": [
    "df=df.rename(columns = {'m_i_s__status':'target'})"
   ]
  },
  {
   "cell_type": "code",
   "execution_count": 202,
   "id": "53caf011",
   "metadata": {},
   "outputs": [],
   "source": [
    "state_point = df.groupby('state')['target'].value_counts(normalize=True).unstack()['P I F'].sort_values(ascending = False)"
   ]
  },
  {
   "cell_type": "code",
   "execution_count": null,
   "id": "427b8b98",
   "metadata": {},
   "outputs": [],
   "source": [
    "#Next, we will give points to each State.\n",
    "#I indicated only the highest and the lowest default rates in the library and assigned def rate = 18 (mean) to the states left\n",
    "#Function for the state scores \n",
    "def apply_score_state(i):\n",
    "    state_default = {'MT':8, 'ND': 8, 'WY':8, 'SD':8, 'VT':8, 'ME':10,'NH':10, 'NM':10, 'AK':10, 'WA':13,'AD':13, 'MN':13, \n",
    "                     'WI':13, 'IA':13,'NE':13, 'KS':13, 'MA':13,'CT':13,'RI':13,'PA':13, 'NV':23, 'IL':23, 'MI':23, 'KY':23,\n",
    "                     'GA':23, 'FL':28}\n",
    "    temp_defrate = None\n",
    "    average_def_rate = 18\n",
    "    if i in state_default:\n",
    "        temp_defrate = state_default[i]\n",
    "        return point_def(temp_defrate)\n",
    "    return point_def(average_def_rate)"
   ]
  },
  {
   "cell_type": "code",
   "execution_count": 205,
   "id": "15863d82",
   "metadata": {},
   "outputs": [],
   "source": [
    "state_point= pd.DataFrame(state_point)"
   ]
  },
  {
   "cell_type": "code",
   "execution_count": 216,
   "id": "bd64ab8b",
   "metadata": {},
   "outputs": [
    {
     "data": {
      "text/plain": [
       "0.9293653639297239"
      ]
     },
     "execution_count": 216,
     "metadata": {},
     "output_type": "execute_result"
    }
   ],
   "source": []
  },
  {
   "cell_type": "code",
   "execution_count": 232,
   "id": "3f87f473",
   "metadata": {},
   "outputs": [
    {
     "data": {
      "text/plain": [
       "state\n",
       "MT    0.931319\n",
       "WY    0.929365\n",
       "VT    0.925788\n",
       "ND    0.922676\n",
       "SD    0.921591\n",
       "ME    0.902014\n",
       "NH    0.892258\n",
       "NM    0.891660\n",
       "NE    0.887228\n",
       "AK    0.886017\n",
       "RI    0.885224\n",
       "IA    0.883498\n",
       "MN    0.882677\n",
       "WI    0.877927\n",
       "MA    0.869755\n",
       "KS    0.869473\n",
       "WA    0.859606\n",
       "CT    0.859428\n",
       "ID    0.857421\n",
       "PA    0.853048\n",
       "HI    0.847434\n",
       "MO    0.847055\n",
       "OR    0.846717\n",
       "OK    0.844662\n",
       "MS    0.841583\n",
       "WV    0.838190\n",
       "OH    0.834974\n",
       "AL    0.834020\n",
       "AR    0.831060\n",
       "UT    0.823545\n",
       "IN    0.823381\n",
       "CO    0.821207\n",
       "DE    0.820916\n",
       "LA    0.819021\n",
       "CA    0.814620\n",
       "VA    0.812128\n",
       "TX    0.810971\n",
       "NC    0.807452\n",
       "KY    0.805198\n",
       "MD    0.801271\n",
       "NY    0.799655\n",
       "NJ    0.798211\n",
       "SC    0.797602\n",
       "AZ    0.792553\n",
       "TN    0.788243\n",
       "MI    0.773729\n",
       "IL    0.772263\n",
       "NV    0.767319\n",
       "DC    0.761101\n",
       "GA    0.760205\n",
       "FL    0.724731\n",
       "Name: P I F, dtype: float64"
      ]
     },
     "execution_count": 232,
     "metadata": {},
     "output_type": "execute_result"
    }
   ],
   "source": [
    "state_point['P I F']"
   ]
  },
  {
   "cell_type": "code",
   "execution_count": 260,
   "id": "0f2e8124",
   "metadata": {},
   "outputs": [
    {
     "data": {
      "text/plain": [
       "'MT'"
      ]
     },
     "execution_count": 260,
     "metadata": {},
     "output_type": "execute_result"
    }
   ],
   "source": [
    "state_point['P I F'].index[0]"
   ]
  },
  {
   "cell_type": "code",
   "execution_count": 304,
   "id": "1f2f8e6b",
   "metadata": {},
   "outputs": [
    {
     "data": {
      "text/plain": [
       "P I F    0.929365\n",
       "Name: WY, dtype: float64"
      ]
     },
     "execution_count": 304,
     "metadata": {},
     "output_type": "execute_result"
    }
   ],
   "source": [
    "state_point.iloc[1]"
   ]
  },
  {
   "cell_type": "code",
   "execution_count": 314,
   "id": "ea7aeaee",
   "metadata": {},
   "outputs": [
    {
     "data": {
      "text/plain": [
       "'FL'"
      ]
     },
     "execution_count": 314,
     "metadata": {},
     "output_type": "execute_result"
    }
   ],
   "source": [
    "state_point.iloc[i].name"
   ]
  },
  {
   "cell_type": "code",
   "execution_count": null,
   "id": "98f18af4",
   "metadata": {},
   "outputs": [],
   "source": [
    " state_score.update({\"color\": \"White\"})"
   ]
  },
  {
   "cell_type": "code",
   "execution_count": 316,
   "id": "0dc188ef",
   "metadata": {},
   "outputs": [
    {
     "ename": "TypeError",
     "evalue": "update expected at most 1 argument, got 2",
     "output_type": "error",
     "traceback": [
      "\u001b[0;31m---------------------------------------------------------------------------\u001b[0m",
      "\u001b[0;31mTypeError\u001b[0m                                 Traceback (most recent call last)",
      "\u001b[0;32m/var/folders/d0/5dr5q0n145vcn3_m9dxy1xq80000gn/T/ipykernel_40741/4064483746.py\u001b[0m in \u001b[0;36m<module>\u001b[0;34m\u001b[0m\n\u001b[1;32m      4\u001b[0m     \u001b[0;32mif\u001b[0m \u001b[0mstate_point\u001b[0m\u001b[0;34m.\u001b[0m\u001b[0miloc\u001b[0m\u001b[0;34m[\u001b[0m\u001b[0mi\u001b[0m\u001b[0;34m]\u001b[0m\u001b[0;34m[\u001b[0m\u001b[0;36m0\u001b[0m\u001b[0;34m]\u001b[0m \u001b[0;34m>\u001b[0m \u001b[0;36m.90\u001b[0m\u001b[0;34m:\u001b[0m\u001b[0;34m\u001b[0m\u001b[0;34m\u001b[0m\u001b[0m\n\u001b[1;32m      5\u001b[0m \u001b[0;34m\u001b[0m\u001b[0m\n\u001b[0;32m----> 6\u001b[0;31m         \u001b[0mstate_score\u001b[0m\u001b[0;34m.\u001b[0m\u001b[0mupdate\u001b[0m\u001b[0;34m(\u001b[0m\u001b[0;34mf'state_point.iloc[i].name'\u001b[0m\u001b[0;34m,\u001b[0m \u001b[0;34m'90'\u001b[0m\u001b[0;34m)\u001b[0m\u001b[0;34m\u001b[0m\u001b[0;34m\u001b[0m\u001b[0m\n\u001b[0m\u001b[1;32m      7\u001b[0m \u001b[0;34m\u001b[0m\u001b[0m\n\u001b[1;32m      8\u001b[0m \u001b[0;34m\u001b[0m\u001b[0m\n",
      "\u001b[0;31mTypeError\u001b[0m: update expected at most 1 argument, got 2"
     ]
    }
   ],
   "source": [
    "state_score = {}\n",
    "for i in range(0,len(state_point)):\n",
    "    \n",
    "    if state_point.iloc[i][0] > .90:\n",
    "        \n",
    "        state_score.update(f'state_point.iloc[i].name', '90')\n",
    "        \n",
    "    \n",
    "    \n",
    "    \n",
    " "
   ]
  },
  {
   "cell_type": "code",
   "execution_count": 269,
   "id": "49b14147",
   "metadata": {},
   "outputs": [
    {
     "ename": "AttributeError",
     "evalue": "'float' object has no attribute 'index'",
     "output_type": "error",
     "traceback": [
      "\u001b[0;31m---------------------------------------------------------------------------\u001b[0m",
      "\u001b[0;31mAttributeError\u001b[0m                            Traceback (most recent call last)",
      "\u001b[0;32m/var/folders/d0/5dr5q0n145vcn3_m9dxy1xq80000gn/T/ipykernel_40741/757125107.py\u001b[0m in \u001b[0;36m<module>\u001b[0;34m\u001b[0m\n\u001b[1;32m      4\u001b[0m     \u001b[0;32mif\u001b[0m \u001b[0mi\u001b[0m \u001b[0;34m>\u001b[0m\u001b[0;36m.90\u001b[0m\u001b[0;34m:\u001b[0m\u001b[0;34m\u001b[0m\u001b[0;34m\u001b[0m\u001b[0m\n\u001b[1;32m      5\u001b[0m \u001b[0;34m\u001b[0m\u001b[0m\n\u001b[0;32m----> 6\u001b[0;31m         \u001b[0mprint\u001b[0m\u001b[0;34m(\u001b[0m\u001b[0;34mf'{i.index}'\u001b[0m\u001b[0;34m)\u001b[0m\u001b[0;34m\u001b[0m\u001b[0;34m\u001b[0m\u001b[0m\n\u001b[0m\u001b[1;32m      7\u001b[0m \u001b[0;34m\u001b[0m\u001b[0m\n\u001b[1;32m      8\u001b[0m         \u001b[0;31m#state_score.update(i.index, 1)\u001b[0m\u001b[0;34m\u001b[0m\u001b[0;34m\u001b[0m\u001b[0m\n",
      "\u001b[0;31mAttributeError\u001b[0m: 'float' object has no attribute 'index'"
     ]
    }
   ],
   "source": [
    " \n",
    "    if i >.90:\n",
    "        \n",
    "        print(f'{i.index}')\n",
    "        \n",
    "        #state_score.update(i.index, 1)\n",
    "        \n",
    "    #elif i > .86:\n",
    "        \n",
    "       # print(2)\n",
    "        \n",
    "    #elif i> .76:\n",
    "        \n",
    "       # print(3)\n",
    "        \n",
    "    #else:\n",
    "        #print(4)\n",
    "        \n",
    "    \n",
    "        \n",
    "    "
   ]
  }
 ],
 "metadata": {
  "kernelspec": {
   "display_name": "Python 3 (ipykernel)",
   "language": "python",
   "name": "python3"
  },
  "language_info": {
   "codemirror_mode": {
    "name": "ipython",
    "version": 3
   },
   "file_extension": ".py",
   "mimetype": "text/x-python",
   "name": "python",
   "nbconvert_exporter": "python",
   "pygments_lexer": "ipython3",
   "version": "3.9.13"
  }
 },
 "nbformat": 4,
 "nbformat_minor": 5
}
