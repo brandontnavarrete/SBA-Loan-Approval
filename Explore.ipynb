{
 "cells": [
  {
   "cell_type": "markdown",
   "id": "6e9b7a52",
   "metadata": {},
   "source": [
    "# import "
   ]
  },
  {
   "cell_type": "code",
   "execution_count": 1,
   "id": "c8970dab",
   "metadata": {},
   "outputs": [
    {
     "name": "stderr",
     "output_type": "stream",
     "text": [
      "/usr/local/anaconda3/lib/python3.9/site-packages/fuzzywuzzy/fuzz.py:11: UserWarning: Using slow pure-python SequenceMatcher. Install python-Levenshtein to remove this warning\n",
      "  warnings.warn('Using slow pure-python SequenceMatcher. Install python-Levenshtein to remove this warning')\n"
     ]
    }
   ],
   "source": [
    "import pandas as pd \n",
    "import numpy as np \n",
    "\n",
    "import seaborn as sns\n",
    "import matplotlib.pyplot as plt\n",
    "\n",
    "import uszipcode\n",
    "from uszipcode import SearchEngine\n",
    "\n",
    "import plotly as plty\n"
   ]
  },
  {
   "cell_type": "markdown",
   "id": "816d500e",
   "metadata": {},
   "source": [
    "# data"
   ]
  },
  {
   "cell_type": "markdown",
   "id": "9bd9755e",
   "metadata": {},
   "source": [
    "Variable Name\t    Description\n",
    "\n",
    "LoanNr_ChkDgt\t    Identifier Primary key\n",
    "\n",
    "Name\t            Borrower name\n",
    "\n",
    "City\t            Borrower city\n",
    "\n",
    "State\t            Borrower state\n",
    "\n",
    "Zip\t                Borrower zip code\n",
    "\n",
    "Bank\t            Bank name\n",
    "\n",
    "BankState\t        Bank state\n",
    "\n",
    "NAICS\t            North American industry classification system code\n",
    "\n",
    "ApprovalDate\t    Date SBA commitment issued\n",
    "\n",
    "ApprovalFY\t        Fiscal year of commitment\n",
    "\n",
    "Term\t            Loan term in months\n",
    "\n",
    "NoEmp\t            Number of business employees\n",
    "\n",
    "NewExist\t        1 = Existing business, 2 = New business\n",
    "\n",
    "CreateJob\t        Number of jobs created\n",
    "\n",
    "RetainedJob\t        Number of jobs retained\n",
    "\n",
    "FranchiseCode\t    Franchise code, (00000 or 00001) = No franchise\n",
    "\n",
    "UrbanRural\t        1 = Urban, 2 = rural, 0 = undefined\n",
    "\n",
    "RevLineCr\t        Revolving line of credit: Y = Yes, N = No\n",
    "    \n",
    "LowDoc\t            LowDoc Loan Program: Y = Yes, N = No\n",
    "    \n",
    "ChgOffDate\t        The date when a loan is declared to be in default\n",
    "\n",
    "DisbursementDate\tDisbursement date\n",
    "\n",
    "DisbursementGross\tAmount disbursed\n",
    "\n",
    "BalanceGross\t    Gross amount outstanding\n",
    "\n",
    "MIS_Status\t        Loan status charged off = CHGOFF, Paid in full =PIF\n",
    "\n",
    "ChgOffPrinGr\t    Charged-off amount\n",
    "\n",
    "GrAppv\t            Gross amount of loan approved by bank\n",
    "\n",
    "SBA_Appv\t        SBA’s guaranteed amount of approved loan"
   ]
  },
  {
   "cell_type": "code",
   "execution_count": 2,
   "id": "fb1ebd1a",
   "metadata": {},
   "outputs": [
    {
     "name": "stderr",
     "output_type": "stream",
     "text": [
      "/var/folders/d0/5dr5q0n145vcn3_m9dxy1xq80000gn/T/ipykernel_43912/711269991.py:1: DtypeWarning: Columns (8) have mixed types. Specify dtype option on import or set low_memory=False.\n",
      "  df = pd.read_csv('explore.csv',index_col= 0 )\n"
     ]
    }
   ],
   "source": [
    "df = pd.read_csv('explore.csv',index_col= 0 )"
   ]
  },
  {
   "cell_type": "code",
   "execution_count": 3,
   "id": "b3435301",
   "metadata": {},
   "outputs": [],
   "source": [
    "def camel_to_snake(column_name):\n",
    "    \"\"\"Converts a camel case string to snake case\"\"\"\n",
    "    snake_name = ''\n",
    "    for i, char in enumerate(column_name):\n",
    "        if i == 0:\n",
    "            snake_name += char.lower()\n",
    "        elif char.isupper():\n",
    "            snake_name += '_' + char.lower()\n",
    "        else:\n",
    "            snake_name += char\n",
    "    return snake_name"
   ]
  },
  {
   "cell_type": "code",
   "execution_count": 4,
   "id": "8471802a",
   "metadata": {},
   "outputs": [],
   "source": [
    "snake_case_columns = [camel_to_snake(col) for col in df]"
   ]
  },
  {
   "cell_type": "code",
   "execution_count": 5,
   "id": "516003ec",
   "metadata": {},
   "outputs": [
    {
     "data": {
      "text/plain": [
       "['city',\n",
       " 'state',\n",
       " 'zip',\n",
       " 'bank',\n",
       " 'bank_state',\n",
       " 'n_a_i_c_s',\n",
       " 'approval_date',\n",
       " 'approval_f_y',\n",
       " 'term',\n",
       " 'no_emp',\n",
       " 'new_exist',\n",
       " 'create_job',\n",
       " 'retained_job',\n",
       " 'franchise_code',\n",
       " 'urban_rural',\n",
       " 'rev_line_cr',\n",
       " 'low_doc',\n",
       " 'chg_off_date',\n",
       " 'disbursement_date',\n",
       " 'disbursement_gross',\n",
       " 'balance_gross',\n",
       " 'm_i_s__status',\n",
       " 'chg_off_prin_gr',\n",
       " 'gr_appv',\n",
       " 's_b_a__appv']"
      ]
     },
     "execution_count": 5,
     "metadata": {},
     "output_type": "execute_result"
    }
   ],
   "source": [
    "snake_case_columns"
   ]
  },
  {
   "cell_type": "code",
   "execution_count": 6,
   "id": "e14da8f0",
   "metadata": {},
   "outputs": [],
   "source": [
    "# lis = df.columns.tolist()"
   ]
  },
  {
   "cell_type": "code",
   "execution_count": 7,
   "id": "fa1a0eff",
   "metadata": {},
   "outputs": [],
   "source": [
    "# lis = [x.lower() for x in lis]"
   ]
  },
  {
   "cell_type": "code",
   "execution_count": 8,
   "id": "fc752f7b",
   "metadata": {},
   "outputs": [],
   "source": [
    "df.columns = snake_case_columns"
   ]
  },
  {
   "cell_type": "code",
   "execution_count": 9,
   "id": "b4f1ca45",
   "metadata": {},
   "outputs": [],
   "source": [
    "df = df.drop(columns = ['approval_date','chg_off_date','disbursement_date'])"
   ]
  },
  {
   "cell_type": "markdown",
   "id": "f5c3b337",
   "metadata": {},
   "source": [
    "# Explore"
   ]
  },
  {
   "cell_type": "code",
   "execution_count": 10,
   "id": "37e24861",
   "metadata": {},
   "outputs": [],
   "source": [
    "df=df.rename(columns = {'m_i_s__status':'target'})"
   ]
  },
  {
   "cell_type": "code",
   "execution_count": 11,
   "id": "609c6ddb",
   "metadata": {},
   "outputs": [],
   "source": [
    "state_point = df.groupby('state')['target'].value_counts(normalize=True).unstack()['P I F'].sort_values(ascending = False)"
   ]
  },
  {
   "cell_type": "code",
   "execution_count": 12,
   "id": "d6fcddc5",
   "metadata": {},
   "outputs": [],
   "source": [
    "#Next, we will give points to each State.\n",
    "#I indicated only the highest and the lowest default rates in the library and assigned def rate = 18 (mean) to the states left\n",
    "#Function for the state scores \n",
    "def apply_score_state(i):\n",
    "    state_default = {'MT':8, 'ND': 8, 'WY':8, 'SD':8, 'VT':8, 'ME':10,'NH':10, 'NM':10, 'AK':10, 'WA':13,'AD':13, 'MN':13, \n",
    "                     'WI':13, 'IA':13,'NE':13, 'KS':13, 'MA':13,'CT':13,'RI':13,'PA':13, 'NV':23, 'IL':23, 'MI':23, 'KY':23,\n",
    "                     'GA':23, 'FL':28}\n",
    "    temp_defrate = None\n",
    "    average_def_rate = 18\n",
    "    if i in state_default:\n",
    "        temp_defrate = state_default[i]\n",
    "        return point_def(temp_defrate)\n",
    "    return point_def(average_def_rate)"
   ]
  },
  {
   "cell_type": "code",
   "execution_count": 13,
   "id": "189feca5",
   "metadata": {},
   "outputs": [],
   "source": [
    "state_point= pd.DataFrame(state_point)"
   ]
  },
  {
   "cell_type": "code",
   "execution_count": null,
   "id": "d27dc479",
   "metadata": {},
   "outputs": [],
   "source": []
  },
  {
   "cell_type": "code",
   "execution_count": 14,
   "id": "4bc9e2f3",
   "metadata": {},
   "outputs": [
    {
     "data": {
      "text/plain": [
       "state\n",
       "MT    0.931319\n",
       "WY    0.929365\n",
       "VT    0.925788\n",
       "ND    0.922676\n",
       "SD    0.921591\n",
       "ME    0.902014\n",
       "NH    0.892258\n",
       "NM    0.891660\n",
       "NE    0.887228\n",
       "AK    0.886017\n",
       "RI    0.885224\n",
       "IA    0.883498\n",
       "MN    0.882677\n",
       "WI    0.877927\n",
       "MA    0.869755\n",
       "KS    0.869473\n",
       "WA    0.859606\n",
       "CT    0.859428\n",
       "ID    0.857421\n",
       "PA    0.853048\n",
       "HI    0.847434\n",
       "MO    0.847055\n",
       "OR    0.846717\n",
       "OK    0.844662\n",
       "MS    0.841583\n",
       "WV    0.838190\n",
       "OH    0.834974\n",
       "AL    0.834020\n",
       "AR    0.831060\n",
       "UT    0.823545\n",
       "IN    0.823381\n",
       "CO    0.821207\n",
       "DE    0.820916\n",
       "LA    0.819021\n",
       "CA    0.814620\n",
       "VA    0.812128\n",
       "TX    0.810971\n",
       "NC    0.807452\n",
       "KY    0.805198\n",
       "MD    0.801271\n",
       "NY    0.799655\n",
       "NJ    0.798211\n",
       "SC    0.797602\n",
       "AZ    0.792553\n",
       "TN    0.788243\n",
       "MI    0.773729\n",
       "IL    0.772263\n",
       "NV    0.767319\n",
       "DC    0.761101\n",
       "GA    0.760205\n",
       "FL    0.724731\n",
       "Name: P I F, dtype: float64"
      ]
     },
     "execution_count": 14,
     "metadata": {},
     "output_type": "execute_result"
    }
   ],
   "source": [
    "state_point['P I F']"
   ]
  },
  {
   "cell_type": "code",
   "execution_count": 15,
   "id": "71510bca",
   "metadata": {},
   "outputs": [],
   "source": [
    "state_score = {}\n",
    "for i in range(0,len(state_point)):\n",
    "    \n",
    "    if state_point.iloc[i][0] > .90:\n",
    "        \n",
    "        dict1 = {f'{state_point.iloc[i].name}': 1}\n",
    "        \n",
    "        state_score.update(dict1)\n",
    "    \n",
    "    elif state_point.iloc[i][0] > .86:\n",
    "        \n",
    "        dict1 = {f'{state_point.iloc[i].name}': 2}\n",
    "        \n",
    "        state_score.update(dict1)\n",
    "    \n",
    "    elif state_point.iloc[i][0] > .76:\n",
    "        \n",
    "        dict1 = {f'{state_point.iloc[i].name}': 3}\n",
    "        \n",
    "        state_score.update(dict1)\n",
    "    \n",
    "    else:\n",
    "        \n",
    "        dict1 = {f'{state_point.iloc[i].name}': 4}\n",
    "        \n",
    "        state_score.update(dict1)\n",
    "        \n",
    "\n",
    "        # state_score.update(f'state_point.iloc[i].name', '90')\n",
    "        \n",
    "    \n",
    "    \n",
    "    \n",
    " "
   ]
  },
  {
   "cell_type": "code",
   "execution_count": 16,
   "id": "9bb6e88a",
   "metadata": {},
   "outputs": [
    {
     "data": {
      "text/plain": [
       "{'MT': 1,\n",
       " 'WY': 1,\n",
       " 'VT': 1,\n",
       " 'ND': 1,\n",
       " 'SD': 1,\n",
       " 'ME': 1,\n",
       " 'NH': 2,\n",
       " 'NM': 2,\n",
       " 'NE': 2,\n",
       " 'AK': 2,\n",
       " 'RI': 2,\n",
       " 'IA': 2,\n",
       " 'MN': 2,\n",
       " 'WI': 2,\n",
       " 'MA': 2,\n",
       " 'KS': 2,\n",
       " 'WA': 3,\n",
       " 'CT': 3,\n",
       " 'ID': 3,\n",
       " 'PA': 3,\n",
       " 'HI': 3,\n",
       " 'MO': 3,\n",
       " 'OR': 3,\n",
       " 'OK': 3,\n",
       " 'MS': 3,\n",
       " 'WV': 3,\n",
       " 'OH': 3,\n",
       " 'AL': 3,\n",
       " 'AR': 3,\n",
       " 'UT': 3,\n",
       " 'IN': 3,\n",
       " 'CO': 3,\n",
       " 'DE': 3,\n",
       " 'LA': 3,\n",
       " 'CA': 3,\n",
       " 'VA': 3,\n",
       " 'TX': 3,\n",
       " 'NC': 3,\n",
       " 'KY': 3,\n",
       " 'MD': 3,\n",
       " 'NY': 3,\n",
       " 'NJ': 3,\n",
       " 'SC': 3,\n",
       " 'AZ': 3,\n",
       " 'TN': 3,\n",
       " 'MI': 3,\n",
       " 'IL': 3,\n",
       " 'NV': 3,\n",
       " 'DC': 3,\n",
       " 'GA': 3,\n",
       " 'FL': 4}"
      ]
     },
     "execution_count": 16,
     "metadata": {},
     "output_type": "execute_result"
    }
   ],
   "source": [
    "state_score"
   ]
  },
  {
   "cell_type": "code",
   "execution_count": 17,
   "id": "cddd836e",
   "metadata": {},
   "outputs": [
    {
     "data": {
      "text/plain": [
       "True"
      ]
     },
     "execution_count": 17,
     "metadata": {},
     "output_type": "execute_result"
    }
   ],
   "source": [
    "df.state[1] in state_score"
   ]
  },
  {
   "cell_type": "code",
   "execution_count": 18,
   "id": "8ea0e56f",
   "metadata": {},
   "outputs": [
    {
     "data": {
      "text/plain": [
       "3"
      ]
     },
     "execution_count": 18,
     "metadata": {},
     "output_type": "execute_result"
    }
   ],
   "source": [
    "state_score['GA']"
   ]
  },
  {
   "cell_type": "code",
   "execution_count": 19,
   "id": "4b447834",
   "metadata": {},
   "outputs": [],
   "source": [
    "def apply_score(state):\n",
    "    \n",
    "    if state in state_score:\n",
    "        return(state_score[state])\n",
    "    \n",
    "    \n",
    "        \n",
    "        "
   ]
  },
  {
   "cell_type": "code",
   "execution_count": 20,
   "id": "a76d7702",
   "metadata": {},
   "outputs": [],
   "source": [
    "# create a new column called 'n_a_i_c_s_first_two'\n",
    "df['sec_points'] = df['n_a_i_c_s'].apply(lambda x: int(str(x)[:2]))"
   ]
  },
  {
   "cell_type": "code",
   "execution_count": 21,
   "id": "4d98b0a5",
   "metadata": {},
   "outputs": [],
   "source": [
    "df['state_score'] = df.state.apply(apply_score)"
   ]
  },
  {
   "cell_type": "code",
   "execution_count": 22,
   "id": "5d2177c4",
   "metadata": {},
   "outputs": [],
   "source": [
    "# drop columns / city : to many vars, state: replaced by state score.\n",
    "df.drop(columns = ['city','state','bank_state','approval_f_y','bank','n_a_i_c_s'], inplace=True)"
   ]
  },
  {
   "cell_type": "code",
   "execution_count": 23,
   "id": "212a7241",
   "metadata": {},
   "outputs": [],
   "source": [
    "df['target'] = df['target'].replace({'P I F': 0, 'CHGOFF': 1})"
   ]
  },
  {
   "cell_type": "code",
   "execution_count": 26,
   "id": "a67af6f9",
   "metadata": {},
   "outputs": [],
   "source": [
    "df['rev_line_cr'] = df['rev_line_cr'].replace({'N': 0, 'Y': 1})"
   ]
  },
  {
   "cell_type": "code",
   "execution_count": 27,
   "id": "f6cfeb20",
   "metadata": {},
   "outputs": [],
   "source": [
    "df['low_doc'] = df['low_doc'].replace({'N': 0, 'Y': 1})"
   ]
  },
  {
   "cell_type": "code",
   "execution_count": 29,
   "id": "6e5f9a83",
   "metadata": {},
   "outputs": [
    {
     "data": {
      "text/html": [
       "<div>\n",
       "<style scoped>\n",
       "    .dataframe tbody tr th:only-of-type {\n",
       "        vertical-align: middle;\n",
       "    }\n",
       "\n",
       "    .dataframe tbody tr th {\n",
       "        vertical-align: top;\n",
       "    }\n",
       "\n",
       "    .dataframe thead th {\n",
       "        text-align: right;\n",
       "    }\n",
       "</style>\n",
       "<table border=\"1\" class=\"dataframe\">\n",
       "  <thead>\n",
       "    <tr style=\"text-align: right;\">\n",
       "      <th></th>\n",
       "      <th>zip</th>\n",
       "      <th>term</th>\n",
       "      <th>no_emp</th>\n",
       "      <th>new_exist</th>\n",
       "      <th>create_job</th>\n",
       "      <th>retained_job</th>\n",
       "      <th>franchise_code</th>\n",
       "      <th>urban_rural</th>\n",
       "      <th>rev_line_cr</th>\n",
       "      <th>low_doc</th>\n",
       "      <th>disbursement_gross</th>\n",
       "      <th>balance_gross</th>\n",
       "      <th>target</th>\n",
       "      <th>chg_off_prin_gr</th>\n",
       "      <th>gr_appv</th>\n",
       "      <th>s_b_a__appv</th>\n",
       "      <th>sec_points</th>\n",
       "      <th>state_score</th>\n",
       "    </tr>\n",
       "  </thead>\n",
       "  <tbody>\n",
       "    <tr>\n",
       "      <th>0</th>\n",
       "      <td>47711</td>\n",
       "      <td>84</td>\n",
       "      <td>4</td>\n",
       "      <td>2</td>\n",
       "      <td>0</td>\n",
       "      <td>0</td>\n",
       "      <td>1</td>\n",
       "      <td>0</td>\n",
       "      <td>0</td>\n",
       "      <td>1</td>\n",
       "      <td>60000</td>\n",
       "      <td>0</td>\n",
       "      <td>0</td>\n",
       "      <td>0</td>\n",
       "      <td>60000</td>\n",
       "      <td>48000</td>\n",
       "      <td>45</td>\n",
       "      <td>3</td>\n",
       "    </tr>\n",
       "    <tr>\n",
       "      <th>1</th>\n",
       "      <td>46526</td>\n",
       "      <td>60</td>\n",
       "      <td>2</td>\n",
       "      <td>2</td>\n",
       "      <td>0</td>\n",
       "      <td>0</td>\n",
       "      <td>1</td>\n",
       "      <td>0</td>\n",
       "      <td>0</td>\n",
       "      <td>1</td>\n",
       "      <td>40000</td>\n",
       "      <td>0</td>\n",
       "      <td>0</td>\n",
       "      <td>0</td>\n",
       "      <td>40000</td>\n",
       "      <td>32000</td>\n",
       "      <td>72</td>\n",
       "      <td>3</td>\n",
       "    </tr>\n",
       "    <tr>\n",
       "      <th>2</th>\n",
       "      <td>47401</td>\n",
       "      <td>180</td>\n",
       "      <td>7</td>\n",
       "      <td>1</td>\n",
       "      <td>0</td>\n",
       "      <td>0</td>\n",
       "      <td>1</td>\n",
       "      <td>0</td>\n",
       "      <td>0</td>\n",
       "      <td>0</td>\n",
       "      <td>287000</td>\n",
       "      <td>0</td>\n",
       "      <td>0</td>\n",
       "      <td>0</td>\n",
       "      <td>287000</td>\n",
       "      <td>215250</td>\n",
       "      <td>62</td>\n",
       "      <td>3</td>\n",
       "    </tr>\n",
       "    <tr>\n",
       "      <th>3</th>\n",
       "      <td>74012</td>\n",
       "      <td>60</td>\n",
       "      <td>2</td>\n",
       "      <td>1</td>\n",
       "      <td>0</td>\n",
       "      <td>0</td>\n",
       "      <td>1</td>\n",
       "      <td>0</td>\n",
       "      <td>0</td>\n",
       "      <td>1</td>\n",
       "      <td>35000</td>\n",
       "      <td>0</td>\n",
       "      <td>0</td>\n",
       "      <td>0</td>\n",
       "      <td>35000</td>\n",
       "      <td>28000</td>\n",
       "      <td>0</td>\n",
       "      <td>3</td>\n",
       "    </tr>\n",
       "    <tr>\n",
       "      <th>4</th>\n",
       "      <td>32801</td>\n",
       "      <td>240</td>\n",
       "      <td>14</td>\n",
       "      <td>1</td>\n",
       "      <td>7</td>\n",
       "      <td>7</td>\n",
       "      <td>1</td>\n",
       "      <td>0</td>\n",
       "      <td>0</td>\n",
       "      <td>0</td>\n",
       "      <td>229000</td>\n",
       "      <td>0</td>\n",
       "      <td>0</td>\n",
       "      <td>0</td>\n",
       "      <td>229000</td>\n",
       "      <td>229000</td>\n",
       "      <td>0</td>\n",
       "      <td>4</td>\n",
       "    </tr>\n",
       "    <tr>\n",
       "      <th>...</th>\n",
       "      <td>...</td>\n",
       "      <td>...</td>\n",
       "      <td>...</td>\n",
       "      <td>...</td>\n",
       "      <td>...</td>\n",
       "      <td>...</td>\n",
       "      <td>...</td>\n",
       "      <td>...</td>\n",
       "      <td>...</td>\n",
       "      <td>...</td>\n",
       "      <td>...</td>\n",
       "      <td>...</td>\n",
       "      <td>...</td>\n",
       "      <td>...</td>\n",
       "      <td>...</td>\n",
       "      <td>...</td>\n",
       "      <td>...</td>\n",
       "      <td>...</td>\n",
       "    </tr>\n",
       "    <tr>\n",
       "      <th>899159</th>\n",
       "      <td>43221</td>\n",
       "      <td>60</td>\n",
       "      <td>6</td>\n",
       "      <td>1</td>\n",
       "      <td>0</td>\n",
       "      <td>0</td>\n",
       "      <td>1</td>\n",
       "      <td>0</td>\n",
       "      <td>0</td>\n",
       "      <td>0</td>\n",
       "      <td>70000</td>\n",
       "      <td>0</td>\n",
       "      <td>0</td>\n",
       "      <td>0</td>\n",
       "      <td>70000</td>\n",
       "      <td>56000</td>\n",
       "      <td>45</td>\n",
       "      <td>3</td>\n",
       "    </tr>\n",
       "    <tr>\n",
       "      <th>899160</th>\n",
       "      <td>43221</td>\n",
       "      <td>60</td>\n",
       "      <td>6</td>\n",
       "      <td>1</td>\n",
       "      <td>0</td>\n",
       "      <td>0</td>\n",
       "      <td>1</td>\n",
       "      <td>0</td>\n",
       "      <td>1</td>\n",
       "      <td>0</td>\n",
       "      <td>85000</td>\n",
       "      <td>0</td>\n",
       "      <td>0</td>\n",
       "      <td>0</td>\n",
       "      <td>85000</td>\n",
       "      <td>42500</td>\n",
       "      <td>45</td>\n",
       "      <td>3</td>\n",
       "    </tr>\n",
       "    <tr>\n",
       "      <th>899161</th>\n",
       "      <td>93455</td>\n",
       "      <td>108</td>\n",
       "      <td>26</td>\n",
       "      <td>1</td>\n",
       "      <td>0</td>\n",
       "      <td>0</td>\n",
       "      <td>1</td>\n",
       "      <td>0</td>\n",
       "      <td>0</td>\n",
       "      <td>0</td>\n",
       "      <td>300000</td>\n",
       "      <td>0</td>\n",
       "      <td>0</td>\n",
       "      <td>0</td>\n",
       "      <td>300000</td>\n",
       "      <td>225000</td>\n",
       "      <td>33</td>\n",
       "      <td>3</td>\n",
       "    </tr>\n",
       "    <tr>\n",
       "      <th>899162</th>\n",
       "      <td>96830</td>\n",
       "      <td>60</td>\n",
       "      <td>6</td>\n",
       "      <td>1</td>\n",
       "      <td>0</td>\n",
       "      <td>0</td>\n",
       "      <td>1</td>\n",
       "      <td>0</td>\n",
       "      <td>0</td>\n",
       "      <td>1</td>\n",
       "      <td>75000</td>\n",
       "      <td>0</td>\n",
       "      <td>1</td>\n",
       "      <td>46383</td>\n",
       "      <td>75000</td>\n",
       "      <td>60000</td>\n",
       "      <td>0</td>\n",
       "      <td>3</td>\n",
       "    </tr>\n",
       "    <tr>\n",
       "      <th>899163</th>\n",
       "      <td>96734</td>\n",
       "      <td>48</td>\n",
       "      <td>1</td>\n",
       "      <td>2</td>\n",
       "      <td>0</td>\n",
       "      <td>0</td>\n",
       "      <td>1</td>\n",
       "      <td>0</td>\n",
       "      <td>0</td>\n",
       "      <td>0</td>\n",
       "      <td>30000</td>\n",
       "      <td>0</td>\n",
       "      <td>0</td>\n",
       "      <td>0</td>\n",
       "      <td>30000</td>\n",
       "      <td>24000</td>\n",
       "      <td>0</td>\n",
       "      <td>3</td>\n",
       "    </tr>\n",
       "  </tbody>\n",
       "</table>\n",
       "<p>886261 rows × 18 columns</p>\n",
       "</div>"
      ],
      "text/plain": [
       "          zip  term  no_emp  new_exist  create_job  retained_job  \\\n",
       "0       47711    84       4          2           0             0   \n",
       "1       46526    60       2          2           0             0   \n",
       "2       47401   180       7          1           0             0   \n",
       "3       74012    60       2          1           0             0   \n",
       "4       32801   240      14          1           7             7   \n",
       "...       ...   ...     ...        ...         ...           ...   \n",
       "899159  43221    60       6          1           0             0   \n",
       "899160  43221    60       6          1           0             0   \n",
       "899161  93455   108      26          1           0             0   \n",
       "899162  96830    60       6          1           0             0   \n",
       "899163  96734    48       1          2           0             0   \n",
       "\n",
       "        franchise_code  urban_rural rev_line_cr low_doc  disbursement_gross  \\\n",
       "0                    1            0           0       1               60000   \n",
       "1                    1            0           0       1               40000   \n",
       "2                    1            0           0       0              287000   \n",
       "3                    1            0           0       1               35000   \n",
       "4                    1            0           0       0              229000   \n",
       "...                ...          ...         ...     ...                 ...   \n",
       "899159               1            0           0       0               70000   \n",
       "899160               1            0           1       0               85000   \n",
       "899161               1            0           0       0              300000   \n",
       "899162               1            0           0       1               75000   \n",
       "899163               1            0           0       0               30000   \n",
       "\n",
       "        balance_gross  target  chg_off_prin_gr  gr_appv  s_b_a__appv  \\\n",
       "0                   0       0                0    60000        48000   \n",
       "1                   0       0                0    40000        32000   \n",
       "2                   0       0                0   287000       215250   \n",
       "3                   0       0                0    35000        28000   \n",
       "4                   0       0                0   229000       229000   \n",
       "...               ...     ...              ...      ...          ...   \n",
       "899159              0       0                0    70000        56000   \n",
       "899160              0       0                0    85000        42500   \n",
       "899161              0       0                0   300000       225000   \n",
       "899162              0       1            46383    75000        60000   \n",
       "899163              0       0                0    30000        24000   \n",
       "\n",
       "        sec_points  state_score  \n",
       "0               45            3  \n",
       "1               72            3  \n",
       "2               62            3  \n",
       "3                0            3  \n",
       "4                0            4  \n",
       "...            ...          ...  \n",
       "899159          45            3  \n",
       "899160          45            3  \n",
       "899161          33            3  \n",
       "899162           0            3  \n",
       "899163           0            3  \n",
       "\n",
       "[886261 rows x 18 columns]"
      ]
     },
     "execution_count": 29,
     "metadata": {},
     "output_type": "execute_result"
    }
   ],
   "source": [
    "df"
   ]
  },
  {
   "cell_type": "code",
   "execution_count": null,
   "id": "d5929d86",
   "metadata": {},
   "outputs": [],
   "source": []
  }
 ],
 "metadata": {
  "kernelspec": {
   "display_name": "Python 3 (ipykernel)",
   "language": "python",
   "name": "python3"
  },
  "language_info": {
   "codemirror_mode": {
    "name": "ipython",
    "version": 3
   },
   "file_extension": ".py",
   "mimetype": "text/x-python",
   "name": "python",
   "nbconvert_exporter": "python",
   "pygments_lexer": "ipython3",
   "version": "3.9.13"
  }
 },
 "nbformat": 4,
 "nbformat_minor": 5
}
