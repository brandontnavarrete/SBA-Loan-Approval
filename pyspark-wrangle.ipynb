{
 "cells": [
  {
   "cell_type": "markdown",
   "id": "825befa4",
   "metadata": {},
   "source": [
    "# import"
   ]
  },
  {
   "cell_type": "code",
   "execution_count": 1,
   "id": "8b09c929",
   "metadata": {},
   "outputs": [],
   "source": [
    "import pyspark\n",
    "import numpy as np\n",
    "import pandas as pd "
   ]
  },
  {
   "cell_type": "markdown",
   "id": "da5b49d3",
   "metadata": {},
   "source": [
    "# session"
   ]
  },
  {
   "cell_type": "code",
   "execution_count": 2,
   "id": "b58d1b5f",
   "metadata": {},
   "outputs": [],
   "source": [
    "from pyspark.sql import SparkSession"
   ]
  },
  {
   "cell_type": "markdown",
   "id": "e6ecf947",
   "metadata": {},
   "source": [
    "# creating a session"
   ]
  },
  {
   "cell_type": "code",
   "execution_count": 3,
   "id": "8555a56d",
   "metadata": {},
   "outputs": [
    {
     "name": "stderr",
     "output_type": "stream",
     "text": [
      "Setting default log level to \"WARN\".\n",
      "To adjust logging level use sc.setLogLevel(newLevel). For SparkR, use setLogLevel(newLevel).\n"
     ]
    },
    {
     "name": "stdout",
     "output_type": "stream",
     "text": [
      "23/04/30 22:49:10 WARN NativeCodeLoader: Unable to load native-hadoop library for your platform... using builtin-java classes where applicable\n",
      "23/04/30 22:49:11 WARN Utils: Service 'SparkUI' could not bind on port 4040. Attempting port 4041.\n"
     ]
    }
   ],
   "source": [
    "spark = SparkSession.builder.appName('SBA').getOrCreate()"
   ]
  },
  {
   "cell_type": "markdown",
   "id": "3893eba6",
   "metadata": {},
   "source": [
    "# data"
   ]
  },
  {
   "cell_type": "code",
   "execution_count": 4,
   "id": "a4b19316",
   "metadata": {},
   "outputs": [
    {
     "name": "stderr",
     "output_type": "stream",
     "text": [
      "\r",
      "[Stage 1:>                                                          (0 + 4) / 4]\r"
     ]
    },
    {
     "name": "stdout",
     "output_type": "stream",
     "text": [
      "root\n",
      " |-- LoanNr_ChkDgt: long (nullable = true)\n",
      " |-- Name: string (nullable = true)\n",
      " |-- City: string (nullable = true)\n",
      " |-- State: string (nullable = true)\n",
      " |-- Zip: string (nullable = true)\n",
      " |-- Bank: string (nullable = true)\n",
      " |-- BankState: string (nullable = true)\n",
      " |-- NAICS: string (nullable = true)\n",
      " |-- ApprovalDate: string (nullable = true)\n",
      " |-- ApprovalFY: string (nullable = true)\n",
      " |-- Term: integer (nullable = true)\n",
      " |-- NoEmp: integer (nullable = true)\n",
      " |-- NewExist: integer (nullable = true)\n",
      " |-- CreateJob: integer (nullable = true)\n",
      " |-- RetainedJob: integer (nullable = true)\n",
      " |-- FranchiseCode: integer (nullable = true)\n",
      " |-- UrbanRural: integer (nullable = true)\n",
      " |-- RevLineCr: string (nullable = true)\n",
      " |-- LowDoc: string (nullable = true)\n",
      " |-- ChgOffDate: string (nullable = true)\n",
      " |-- DisbursementDate: string (nullable = true)\n",
      " |-- DisbursementGross: string (nullable = true)\n",
      " |-- BalanceGross: string (nullable = true)\n",
      " |-- MIS_Status: string (nullable = true)\n",
      " |-- ChgOffPrinGr: string (nullable = true)\n",
      " |-- GrAppv: string (nullable = true)\n",
      " |-- SBA_Appv: string (nullable = true)\n",
      "\n"
     ]
    },
    {
     "name": "stderr",
     "output_type": "stream",
     "text": [
      "\r",
      "[Stage 1:=============================>                             (2 + 2) / 4]\r",
      "\r",
      "                                                                                \r"
     ]
    }
   ],
   "source": [
    "#                                        #infer schema prevent all values automatically taking 'string' values\n",
    "df = spark.read.option('header','true').csv('SBAnational.csv', inferSchema= True)\n",
    "\n",
    "df.printSchema()"
   ]
  },
  {
   "cell_type": "code",
   "execution_count": 5,
   "id": "f4f6b855",
   "metadata": {},
   "outputs": [],
   "source": [
    "# change col names\n",
    "from pyspark.sql.functions import col\n",
    "\n",
    "# Define the function to convert column names to snake case\n",
    "def camel_to_snake(column_name):\n",
    "    \"\"\"Converts a camel case string to snake case\"\"\"\n",
    "    snake_name = ''\n",
    "    for i, char in enumerate(column_name):\n",
    "        if i == 0:\n",
    "            snake_name += char.lower()\n",
    "        elif char.isupper():\n",
    "            snake_name += '_' + char.lower()\n",
    "        else:\n",
    "            snake_name += char\n",
    "    return snake_name\n",
    "\n",
    "# Loop through all column names in the DataFrame and rename them to snake case\n",
    "for column in df.columns:\n",
    "    new_column_name = camel_to_snake(column)\n",
    "    df = df.withColumnRenamed(column, new_column_name)\n"
   ]
  },
  {
   "cell_type": "code",
   "execution_count": 6,
   "id": "55fbb804",
   "metadata": {},
   "outputs": [
    {
     "name": "stdout",
     "output_type": "stream",
     "text": [
      "23/04/30 22:49:22 WARN package: Truncated the string representation of a plan since it was too large. This behavior can be adjusted by setting 'spark.sql.debug.maxToStringFields'.\n"
     ]
    },
    {
     "name": "stderr",
     "output_type": "stream",
     "text": [
      "                                                                                \r"
     ]
    },
    {
     "name": "stdout",
     "output_type": "stream",
     "text": [
      "loan_nr__chk_dgt           0\n",
      "name                       3\n",
      "city                      30\n",
      "state                     14\n",
      "zip                        0\n",
      "bank                    1559\n",
      "bank_state              1566\n",
      "n_a_i_c_s                  0\n",
      "approval_date              0\n",
      "approval_f_y               0\n",
      "term                       0\n",
      "no_emp                     0\n",
      "new_exist                136\n",
      "create_job                 0\n",
      "retained_job               0\n",
      "franchise_code             0\n",
      "urban_rural                0\n",
      "rev_line_cr             4528\n",
      "low_doc                 2582\n",
      "chg_off_date          736402\n",
      "disbursement_date       2431\n",
      "disbursement_gross         0\n",
      "balance_gross              0\n",
      "m_i_s__status           1997\n",
      "chg_off_prin_gr            0\n",
      "gr_appv                    0\n",
      "s_b_a__appv                0\n",
      "dtype: int64\n"
     ]
    }
   ],
   "source": [
    "# Convert the PySpark DataFrame to a Pandas DataFrame\n",
    "pandas_df = df.toPandas()\n",
    "\n",
    "# Display the null value counts for each column in the Pandas DataFrame\n",
    "null_counts = pandas_df.isnull().sum()\n",
    "print(null_counts)"
   ]
  },
  {
   "cell_type": "code",
   "execution_count": 7,
   "id": "d381eb43",
   "metadata": {},
   "outputs": [],
   "source": [
    "# Drop the all columns that i didn't take into modeling.\n",
    "\n",
    "# Select only the desired columns\n",
    "df = df.select(['zip',\n",
    "                 'term',\n",
    "                 'no_emp',\n",
    "                 'new_exist',\n",
    "                 'create_job',\n",
    "                 'retained_job',\n",
    "                 'franchise_code',\n",
    "                 'urban_rural',\n",
    "                 'rev_line_cr',\n",
    "                 'low_doc',\n",
    "                 'disbursement_gross',\n",
    "                 'balance_gross',\n",
    "                 'chg_off_prin_gr',\n",
    "                 'gr_appv',\n",
    "                 'state',\n",
    "                 's_b_a__appv',\n",
    "                 'm_i_s__status'])\n"
   ]
  },
  {
   "cell_type": "code",
   "execution_count": 8,
   "id": "3ad97e16",
   "metadata": {},
   "outputs": [
    {
     "name": "stdout",
     "output_type": "stream",
     "text": [
      "root\n",
      " |-- zip: string (nullable = true)\n",
      " |-- term: integer (nullable = true)\n",
      " |-- no_emp: integer (nullable = true)\n",
      " |-- new_exist: integer (nullable = true)\n",
      " |-- create_job: integer (nullable = true)\n",
      " |-- retained_job: integer (nullable = true)\n",
      " |-- franchise_code: integer (nullable = true)\n",
      " |-- urban_rural: integer (nullable = true)\n",
      " |-- rev_line_cr: string (nullable = true)\n",
      " |-- low_doc: string (nullable = true)\n",
      " |-- disbursement_gross: string (nullable = true)\n",
      " |-- balance_gross: string (nullable = true)\n",
      " |-- chg_off_prin_gr: string (nullable = true)\n",
      " |-- gr_appv: string (nullable = true)\n",
      " |-- state: string (nullable = true)\n",
      " |-- s_b_a__appv: string (nullable = true)\n",
      " |-- m_i_s__status: string (nullable = true)\n",
      "\n"
     ]
    }
   ],
   "source": [
    "df.printSchema()"
   ]
  },
  {
   "cell_type": "markdown",
   "id": "10444c58",
   "metadata": {},
   "source": [
    "# drop subsets"
   ]
  },
  {
   "cell_type": "code",
   "execution_count": 9,
   "id": "273a007a",
   "metadata": {},
   "outputs": [],
   "source": [
    "# Drop rows with null values in the \"City\" column\n",
    "df = df.dropna(subset=['new_exist','rev_line_cr', 'low_doc','state','m_i_s__status'])"
   ]
  },
  {
   "cell_type": "code",
   "execution_count": 10,
   "id": "2274927c",
   "metadata": {},
   "outputs": [],
   "source": [
    "import re\n",
    "from pyspark.sql.functions import udf\n",
    "from pyspark.sql.types import IntegerType\n",
    "\n",
    "# Define a UDF for the convert_price_string function\n",
    "udf_convert_price_string = udf(lambda s: int(float(re.sub(r'[^\\d\\.]', '', s))), IntegerType())\n",
    "\n",
    "# Apply the UDF to the 'DisbursementGross' column\n",
    "df = df.withColumn('disbursement_gross', udf_convert_price_string(df['disbursement_gross']))\n",
    "\n",
    "# Apply the UDF to the 'BalanceGross' column\n",
    "df = df.withColumn('balance_gross', udf_convert_price_string(df['balance_gross']))\n",
    "\n",
    "# Apply the UDF to the 'ChgOffPrinGr' column\n",
    "df = df.withColumn('chg_off_prin_gr', udf_convert_price_string(df['chg_off_prin_gr']))\n",
    "\n",
    "# Apply the UDF to the 'GrAppv' column\n",
    "df = df.withColumn('gr_appv', udf_convert_price_string(df['gr_appv']))\n",
    "\n",
    "# Apply the UDF to the 'SBA_Appv' column\n",
    "df = df.withColumn('s_b_a__appv', udf_convert_price_string(df['s_b_a__appv']))\n"
   ]
  },
  {
   "cell_type": "code",
   "execution_count": 11,
   "id": "12c3dfea",
   "metadata": {},
   "outputs": [
    {
     "name": "stdout",
     "output_type": "stream",
     "text": [
      "root\n",
      " |-- zip: string (nullable = true)\n",
      " |-- term: integer (nullable = true)\n",
      " |-- no_emp: integer (nullable = true)\n",
      " |-- new_exist: integer (nullable = true)\n",
      " |-- create_job: integer (nullable = true)\n",
      " |-- retained_job: integer (nullable = true)\n",
      " |-- franchise_code: integer (nullable = true)\n",
      " |-- urban_rural: integer (nullable = true)\n",
      " |-- rev_line_cr: string (nullable = true)\n",
      " |-- low_doc: string (nullable = true)\n",
      " |-- disbursement_gross: integer (nullable = true)\n",
      " |-- balance_gross: integer (nullable = true)\n",
      " |-- chg_off_prin_gr: integer (nullable = true)\n",
      " |-- gr_appv: integer (nullable = true)\n",
      " |-- state: string (nullable = true)\n",
      " |-- s_b_a__appv: integer (nullable = true)\n",
      " |-- m_i_s__status: string (nullable = true)\n",
      "\n"
     ]
    }
   ],
   "source": [
    "df.printSchema()"
   ]
  },
  {
   "cell_type": "code",
   "execution_count": null,
   "id": "4fffa068",
   "metadata": {},
   "outputs": [],
   "source": [
    "pandas_df.to"
   ]
  }
 ],
 "metadata": {
  "kernelspec": {
   "display_name": "Python 3 (ipykernel)",
   "language": "python",
   "name": "python3"
  },
  "language_info": {
   "codemirror_mode": {
    "name": "ipython",
    "version": 3
   },
   "file_extension": ".py",
   "mimetype": "text/x-python",
   "name": "python",
   "nbconvert_exporter": "python",
   "pygments_lexer": "ipython3",
   "version": "3.9.13"
  }
 },
 "nbformat": 4,
 "nbformat_minor": 5
}
